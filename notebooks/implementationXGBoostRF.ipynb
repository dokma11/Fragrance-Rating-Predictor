{
 "cells": [
  {
   "cell_type": "markdown",
   "id": "18f91cf8",
   "metadata": {},
   "source": [
    "# Implementacija predikcije ocene parfema uz korišćenje _XGBoost_ i _Random Forest_\n",
    "\n",
    "Pre svega treba importovati sve potrebne pakete koji će nam služiti za analizu."
   ]
  },
  {
   "cell_type": "code",
   "execution_count": null,
   "id": "eeb20d84",
   "metadata": {},
   "outputs": [
    {
     "name": "stderr",
     "output_type": "stream",
     "text": [
      "2025-09-14 17:03:04.986328: I external/local_xla/xla/tsl/cuda/cudart_stub.cc:31] Could not find cuda drivers on your machine, GPU will not be used.\n",
      "2025-09-14 17:03:04.990257: I tensorflow/core/util/port.cc:153] oneDNN custom operations are on. You may see slightly different numerical results due to floating-point round-off errors from different computation orders. To turn them off, set the environment variable `TF_ENABLE_ONEDNN_OPTS=0`.\n",
      "2025-09-14 17:03:05.289190: I tensorflow/core/platform/cpu_feature_guard.cc:210] This TensorFlow binary is optimized to use available CPU instructions in performance-critical operations.\n",
      "To enable the following instructions: AVX2 AVX512F AVX512_VNNI FMA, in other operations, rebuild TensorFlow with the appropriate compiler flags.\n",
      "2025-09-14 17:03:06.436368: I tensorflow/core/util/port.cc:153] oneDNN custom operations are on. You may see slightly different numerical results due to floating-point round-off errors from different computation orders. To turn them off, set the environment variable `TF_ENABLE_ONEDNN_OPTS=0`.\n",
      "2025-09-14 17:03:06.436709: I external/local_xla/xla/tsl/cuda/cudart_stub.cc:31] Could not find cuda drivers on your machine, GPU will not be used.\n"
     ]
    }
   ],
   "source": [
    "import pandas as pd\n",
    "import numpy as np\n",
    "from sklearn.model_selection import train_test_split\n",
    "from sklearn.preprocessing import OneHotEncoder\n",
    "from sklearn.ensemble import RandomForestRegressor\n",
    "from xgboost import XGBRegressor\n",
    "import tensorflow as tf\n",
    "from sklearn.metrics import mean_absolute_error, mean_squared_error\n",
    "import re\n",
    "from ast import literal_eval\n",
    "import matplotlib.pyplot as plt"
   ]
  },
  {
   "cell_type": "markdown",
   "id": "ebccacab",
   "metadata": {},
   "source": [
    "Funckija `parse_season_ratings()` služi za za parsiranje polja godišnjih doba iz skupa podataka, dok funckija `consolidate_notes()` objedinjuje/konsoliduje _base_, _middle_ i _top_ note u jednu kolekciju."
   ]
  },
  {
   "cell_type": "code",
   "execution_count": null,
   "id": "45a4faa7",
   "metadata": {},
   "outputs": [],
   "source": [
    "def parse_season_ratings(rating_str):\n",
    "    pattern = r'([A-Za-z]+):\\s*([0-9.]+)%'\n",
    "    return {season: float(percent) for season, percent in re.findall(pattern, rating_str)}\n",
    "\n",
    "def consolidate_notes(notes):\n",
    "    all_notes = []\n",
    "    for note_type in ['Top Notes', 'Middle Notes', 'Base Notes']:\n",
    "        if note_type in notes:\n",
    "            all_notes.extend(notes[note_type])\n",
    "    return all_notes"
   ]
  },
  {
   "cell_type": "markdown",
   "id": "838c9ba4",
   "metadata": {},
   "source": [
    "Učitavanje skupa podataka:"
   ]
  },
  {
   "cell_type": "code",
   "execution_count": 3,
   "id": "c915606f",
   "metadata": {},
   "outputs": [],
   "source": [
    "file_path = \"../datasets/mainDataset.csv\"  \n",
    "data = pd.read_csv(file_path, delimiter='|')"
   ]
  },
  {
   "cell_type": "markdown",
   "id": "1661f840",
   "metadata": {},
   "source": [
    "Prasiranje nekih relevantnih polja iz skupa podataka, zbog njihovog oblika čuvanja u _dataset_-u, koji će biti ulaz u algoritme. Koristila se metoda `literal_Eval()` za bezbedno parsiranje stringova koji predstavljaju _Python_ literale u stvarne _Python_ objekte."
   ]
  },
  {
   "cell_type": "code",
   "execution_count": null,
   "id": "81f9bdc5",
   "metadata": {},
   "outputs": [],
   "source": [
    "data['Accords'] = data['Accords'].apply(literal_eval)\n",
    "data['Notes'] = data['Notes'].apply(literal_eval)\n",
    "data['Votes'] = data['Rating'].apply(lambda x: literal_eval(x)['votes'])\n",
    "data['Rating'] = data['Rating'].apply(lambda x: literal_eval(x)['rating'])\n",
    "data['Season ratings'] = data['Season ratings'].apply(parse_season_ratings)\n",
    "data['Day ratings'] = data['Day ratings'].apply(parse_season_ratings)\n",
    "data['Designers'] = data['Designers'].apply(literal_eval)"
   ]
  },
  {
   "cell_type": "markdown",
   "id": "e94c6a8c",
   "metadata": {},
   "source": [
    "Izdvajanje relevantnih polja i stvaranje _record_-a i formiranje _Data Frame_-a koji sadrži svaki parfem iz skupa podataka u pogodnom obliku. _URL_ slike parfema i tekstualni opis nisu bili releventni za eksperiment, kao ni samo ime parfema."
   ]
  },
  {
   "cell_type": "code",
   "execution_count": 5,
   "id": "0df97ee2",
   "metadata": {},
   "outputs": [],
   "source": [
    "records = []\n",
    "for _, row in data.iterrows():\n",
    "    records.append({\n",
    "        \"Brand\": row[\"Brand\"],\n",
    "        \"Accords\": row[\"Accords\"],\n",
    "        \"Gender\": row[\"Gender\"],\n",
    "        \"Longevity\": row[\"Longevity\"],\n",
    "        \"Sillage\": row[\"Sillage\"],\n",
    "        \"Rating\": row[\"Rating\"],\n",
    "        \"Votes\" : row[\"Votes\"],\n",
    "        \"Season_Winter\": row[\"Season ratings\"].get(\"Winter\", 0),\n",
    "        \"Season_Spring\": row[\"Season ratings\"].get(\"Spring\", 0),\n",
    "        \"Season_Summer\": row[\"Season ratings\"].get(\"Summer\", 0),\n",
    "        \"Season_Fall\": row[\"Season ratings\"].get(\"Fall\", 0),\n",
    "        \"Day\": row[\"Day ratings\"].get(\"Day\", 0),\n",
    "        \"Night\": row[\"Day ratings\"].get(\"Night\", 0)\n",
    "    })"
   ]
  },
  {
   "cell_type": "markdown",
   "id": "fa9c94d3",
   "metadata": {},
   "source": [
    "Formiran je _DataFrame_ u kojem su objedinjene sve note pojedinačnog parfema, bez razdvajanja na _top_, _middle_ i _base notes_.\n",
    "\n",
    "Izvršen je eksperiment u kojem je izostavljeno konsolidovanje nota (`apply(consolidate_notes)`), pri čemu su rezultati za metrike _MAE_ i _RMSE_ bili nešto lošiji (povećanje _MAE_ za 0.005), dok je vrednost _R^2_ bila blago bolja (povećanje za 0.02). Ovi rezultati ukazuju da model, kada koristi objedinjene note, lakše prepoznaje kombinacije mirisnih sastojaka koje su povezane sa višim ili nižim ocenama parfema.\n",
    "\n",
    "Model uči samo prisustvo ili odsustvo nota, a ne i njihovu hijerarhiju. To je kompromis: jednostavnija reprezentacija → jasniji signal, ali manje detalja."
   ]
  },
  {
   "cell_type": "code",
   "execution_count": 6,
   "id": "424362a4",
   "metadata": {},
   "outputs": [],
   "source": [
    "structured_df = pd.DataFrame(records)\n",
    "structured_df['All Notes'] = data['Notes'].apply(consolidate_notes)"
   ]
  },
  {
   "cell_type": "markdown",
   "id": "3051ca35",
   "metadata": {},
   "source": [
    "Kategorijske kolone _Brand_ i _Gender_ su pretvorene u _one-hot_ enkodirane kolone, dok su sve jedinstvene note iz _All Notes_ pretvorene u binarne indikatorske kolone koje pokazuju prisustvo svake note, kao i akordi."
   ]
  },
  {
   "cell_type": "code",
   "execution_count": 7,
   "id": "2463d218",
   "metadata": {},
   "outputs": [],
   "source": [
    "ohe = OneHotEncoder(sparse_output=False)\n",
    "ohe_features = pd.DataFrame(\n",
    "    ohe.fit_transform(structured_df[['Brand', 'Gender']]),\n",
    "    columns=ohe.get_feature_names_out(['Brand', 'Gender'])\n",
    ")\n",
    "\n",
    "all_unique_notes = set(note for notes in structured_df['All Notes'] for note in notes)\n",
    "note_df = pd.DataFrame(\n",
    "    {f'Note_{note}': structured_df['All Notes'].apply(lambda x: 1 if note in x else 0)\n",
    "     for note in all_unique_notes}\n",
    ")\n",
    "\n",
    "all_unique_accords = set(accord for accords in structured_df['Accords'] for accord in accords)\n",
    "accord_df = pd.DataFrame(\n",
    "    {f'Accord_{accord}': structured_df['Accords'].apply(lambda x: 1 if accord in x else 0)\n",
    "     for accord in all_unique_accords}\n",
    ")\n",
    "\n",
    "structured_df = pd.concat([structured_df, note_df, accord_df], axis=1)\n",
    "\n",
    "X = pd.concat([ohe_features, structured_df.drop(columns=['Brand', 'Gender', 'Rating', 'All Notes', 'Accords'])], axis=1)\n",
    "y = structured_df['Rating']"
   ]
  },
  {
   "cell_type": "code",
   "execution_count": 8,
   "id": "5d6d0b32",
   "metadata": {},
   "outputs": [],
   "source": [
    "\n",
    "X_train, X_test, y_train, y_test = train_test_split(X, y, test_size=0.2, random_state=42)"
   ]
  },
  {
   "cell_type": "code",
   "execution_count": 9,
   "id": "3f0fae28",
   "metadata": {},
   "outputs": [
    {
     "name": "stdout",
     "output_type": "stream",
     "text": [
      "Random Forest R^2: 0.3845959988417259\n",
      "Random Forest MAE: 0.15122271540469978\n",
      "Random Forest RMSE: 0.19630818214221005\n"
     ]
    }
   ],
   "source": [
    "rf_model = RandomForestRegressor(random_state=42)\n",
    "rf_model.fit(X_train, y_train)\n",
    "y_pred = rf_model.predict(X_test)\n",
    "\n",
    "print(\"Random Forest R^2:\", rf_model.score(X_test, y_test))\n",
    "print(\"Random Forest MAE:\", mean_absolute_error(y_test, y_pred))\n",
    "print(\"Random Forest RMSE:\", np.sqrt(mean_squared_error(y_test, y_pred)))"
   ]
  },
  {
   "cell_type": "code",
   "execution_count": 10,
   "id": "99a59169",
   "metadata": {},
   "outputs": [],
   "source": [
    "importances = pd.Series(rf_model.feature_importances_, index=X_train.columns)\n",
    "#top_features = importances.sort_values(ascending=False).head(30)\n",
    "#print(top_features)\n",
    "#plt.figure(figsize=(10,6))\n",
    "#top_features.plot(kind=\"barh\")\n",
    "#plt.title(\"Top 20 Feature Importances - Random Forest\")\n",
    "#plt.gca().invert_yaxis()\n",
    "#plt.show()"
   ]
  },
  {
   "cell_type": "markdown",
   "id": "5468212d",
   "metadata": {},
   "source": [
    "Analizom _feature importance_ u okviru _Random Forest_ modela, utvrđeno je da su najznačajnije karakteristike za predikciju ocene parfema upravo mirisne note, kao i sezonska pripadnost parfema i njegova dugotrajnost. Ove osobine najviše doprinose tačnosti modela, jer direktno odražavaju mirisni profil i korisničke preferencije.\n",
    "\n",
    "Brend, broj glasova (popularnost) i akordi parfema takođe imaju uticaj na predikciju, ali njihov značaj je manji u poređenju sa prethodno navedenim karakteristikama. Analiza je pokazala da preporuka za nošenje parfema tokom dana ili noći ima ograničen značaj (manje od 10%), dok je _Sillage_ (intenzitet mirisnog traga) još manje relevantan za model.\n",
    "\n",
    "Najmanje značajna karakteristika je _Gender_, što ukazuje da polna pripadnost parfema sve manje utiče na korisničke ocene. Ovaj rezultat iskazuje praćenje savremenih trendova u industriji, gde se sve više kreiraju unisex parfemi, a izbor mirisa postaje lična preferenca, nezavisna od tradicionalnih polnih kategorija"
   ]
  },
  {
   "cell_type": "code",
   "execution_count": 21,
   "id": "638683b4",
   "metadata": {},
   "outputs": [
    {
     "name": "stdout",
     "output_type": "stream",
     "text": [
      "Ukupna važnost Brand: 0.28035188\n",
      "Ukupna važnost Gender: 0.017851654\n",
      "Ukupna važnost Notes: 0.4929208\n",
      "Ukupna važnost Season: 0.019870238\n",
      "Ukupna važnost Day/Night: 0.011339778\n",
      "Važnost Longevity: 0.006240642\n",
      "Važnost Sillage: 0.0024734067\n",
      "Važnost Votes: 0.0076258723\n",
      "Brand        0.280352\n",
      "Gender       0.017852\n",
      "Notes        0.492921\n",
      "Season       0.019870\n",
      "Day/Night    0.011340\n",
      "Longevity    0.006241\n",
      "Sillage      0.002473\n",
      "Votes        0.007626\n",
      "Accords      0.161326\n",
      "dtype: float32\n"
     ]
    },
    {
     "data": {
      "image/png": "[encoded data removed]",
      "text/plain": [
       "<Figure size 800x500 with 1 Axes>"
      ]
     },
     "metadata": {},
     "output_type": "display_data"
    }
   ],
   "source": [
    "brand_importance = importances[importances.index.str.startswith(\"Brand_\")].sum()\n",
    "gender_importance = importances[importances.index.str.startswith(\"Gender_\")].sum()\n",
    "notes_importance = importances[importances.index.str.startswith(\"Note_\")].sum()\n",
    "season_importance = importances[importances.index.str.startswith(\"Season_\")].sum()\n",
    "day_night_importance = importances[importances.index.str.startswith(\"Day\") | importances.index.str.startswith(\"Night\")].sum()\n",
    "longevity_importance = importances[\"Longevity\"]\n",
    "sillage_importance = importances[\"Sillage\"]\n",
    "votes_importance = importances[\"Votes\"]\n",
    "accords_importance = importances[importances.index.str.startswith(\"Accord_\")].sum()\n",
    "\n",
    "print(\"Ukupna važnost Brand:\", brand_importance)\n",
    "print(\"Ukupna važnost Gender:\", gender_importance)\n",
    "print(\"Ukupna važnost Notes:\", notes_importance)\n",
    "print(\"Ukupna važnost Season:\", season_importance)\n",
    "print(\"Ukupna važnost Day/Night:\", day_night_importance)\n",
    "print(\"Važnost Longevity:\", longevity_importance)\n",
    "print(\"Važnost Sillage:\", sillage_importance)\n",
    "print(\"Važnost Votes:\", votes_importance)\n",
    "\n",
    "group_importances = pd.Series({\n",
    "    \"Brand\": brand_importance,\n",
    "    \"Gender\": gender_importance,\n",
    "    \"Notes\": notes_importance,\n",
    "    \"Season\": season_importance,\n",
    "    \"Day/Night\": day_night_importance,\n",
    "    \"Longevity\": longevity_importance,\n",
    "    \"Sillage\": sillage_importance,\n",
    "    \"Votes\": votes_importance,\n",
    "    \"Accords\" : accords_importance\n",
    "})\n",
    "\n",
    "# Print rezultata\n",
    "print(group_importances)\n",
    "\n",
    "# Vizualizacija\n",
    "plt.figure(figsize=(8,5))\n",
    "group_importances.plot(kind=\"bar\", color=\"skyblue\")\n",
    "plt.title(\"Ukupna važnost grupa feature-a\")\n",
    "plt.ylabel(\"Feature Importance\")\n",
    "plt.show()"
   ]
  },
  {
   "cell_type": "code",
   "execution_count": 12,
   "id": "5c1dda63",
   "metadata": {},
   "outputs": [
    {
     "name": "stdout",
     "output_type": "stream",
     "text": [
      "XGBoost R^2: 0.28081412679495943\n",
      "XGBoost MAE: 0.1627535074995952\n",
      "XGBoost RMSE: 0.2122163387687283\n"
     ]
    }
   ],
   "source": [
    "xgb_model = XGBRegressor(random_state=42)\n",
    "xgb_model.fit(X_train, y_train)\n",
    "y_xgb_pred = xgb_model.predict(X_test)\n",
    "\n",
    "print(\"XGBoost R^2:\", xgb_model.score(X_test, y_test))\n",
    "print(\"XGBoost MAE:\", mean_absolute_error(y_test, y_xgb_pred))\n",
    "print(\"XGBoost RMSE:\", np.sqrt(mean_squared_error(y_test, y_xgb_pred)))"
   ]
  },
  {
   "cell_type": "markdown",
   "id": "aea5747f",
   "metadata": {},
   "source": [
    "Analiza _feature importance_ u okviru _XGBoost_ modela pokazuje značajnu razliku u odnosu na _Random Forest_ pristup. Kod _XGBoost_-a, jedine karakteristike koje se izdvajaju kao relevantne za predikciju ocene parfema su mirisne note (_Notes_), brend (_Brand_) i akordi (_Accords_). Ostale osobine, poput sezonske pripadnosti, dugotrajnosti, intenziteta mirisnog traga, broja glasova ili polne kategorije, nisu se pokazale kao značajne za ovaj model.\n",
    "\n",
    "Ovakav rezultat ukazuje da _XGBoost_ algoritam najefikasnije koristi informacije o osnovnim mirisnim komponentama i poreklu parfema, dok dodatni deskriptivni podaci ne doprinose značajno tačnosti predikcije. Time se potvrđuje da je za _XGBoost_ model ključan fokus na mirisnom profilu i brendu, dok se ostale karakteristike ne mogu smatrati relevantnim u procesu učenja."
   ]
  },
  {
   "cell_type": "code",
   "execution_count": 13,
   "id": "c86d301e",
   "metadata": {},
   "outputs": [
    {
     "name": "stdout",
     "output_type": "stream",
     "text": [
      "Ukupna važnost Brand: 0.28035188\n",
      "Ukupna važnost Gender: 0.017851654\n",
      "Ukupna važnost Notes: 0.4929208\n",
      "Ukupna važnost Season: 0.019870238\n",
      "Ukupna važnost Day/Night: 0.011339778\n",
      "Važnost Longevity: 0.006240642\n",
      "Važnost Sillage: 0.0024734067\n",
      "Važnost Votes: 0.0076258723\n",
      "Brand        0.280352\n",
      "Gender       0.017852\n",
      "Notes        0.492921\n",
      "Season       0.019870\n",
      "Day/Night    0.011340\n",
      "Longevity    0.006241\n",
      "Sillage      0.002473\n",
      "Votes        0.007626\n",
      "Accords      0.161326\n",
      "dtype: float32\n"
     ]
    },
    {
     "data": {
      "image/png": "[encoded data removed]",
      "text/plain": [
       "<Figure size 800x500 with 1 Axes>"
      ]
     },
     "metadata": {},
     "output_type": "display_data"
    }
   ],
   "source": [
    "importances = pd.Series(xgb_model.feature_importances_, index=X_train.columns)\n",
    "brand_importance = importances[importances.index.str.startswith(\"Brand_\")].sum()\n",
    "gender_importance = importances[importances.index.str.startswith(\"Gender_\")].sum()\n",
    "notes_importance = importances[importances.index.str.startswith(\"Note_\")].sum()\n",
    "season_importance = importances[importances.index.str.startswith(\"Season_\")].sum()\n",
    "day_night_importance = importances[importances.index.str.startswith(\"Day\") | importances.index.str.startswith(\"Night\")].sum()\n",
    "longevity_importance = importances[\"Longevity\"]\n",
    "sillage_importance = importances[\"Sillage\"]\n",
    "votes_importance = importances[\"Votes\"]\n",
    "accords_importance = importances[importances.index.str.startswith(\"Accord_\")].sum()\n",
    "\n",
    "print(\"Ukupna važnost Brand:\", brand_importance)\n",
    "print(\"Ukupna važnost Gender:\", gender_importance)\n",
    "print(\"Ukupna važnost Notes:\", notes_importance)\n",
    "print(\"Ukupna važnost Season:\", season_importance)\n",
    "print(\"Ukupna važnost Day/Night:\", day_night_importance)\n",
    "print(\"Važnost Longevity:\", longevity_importance)\n",
    "print(\"Važnost Sillage:\", sillage_importance)\n",
    "print(\"Važnost Votes:\", votes_importance)\n",
    "\n",
    "group_importances = pd.Series({\n",
    "    \"Brand\": brand_importance,\n",
    "    \"Gender\": gender_importance,\n",
    "    \"Notes\": notes_importance,\n",
    "    \"Season\": season_importance,\n",
    "    \"Day/Night\": day_night_importance,\n",
    "    \"Longevity\": longevity_importance,\n",
    "    \"Sillage\": sillage_importance,\n",
    "    \"Votes\": votes_importance,\n",
    "    \"Accords\" : accords_importance\n",
    "})\n",
    "\n",
    "# Print rezultata\n",
    "print(group_importances)\n",
    "\n",
    "# Vizualizacija\n",
    "plt.figure(figsize=(8,5))\n",
    "group_importances.plot(kind=\"bar\", color=\"skyblue\")\n",
    "plt.title(\"Ukupna važnost grupa feature-a\")\n",
    "plt.ylabel(\"Feature Importance\")\n",
    "plt.show()"
   ]
  },
  {
   "cell_type": "markdown",
   "id": "c000a1ef",
   "metadata": {},
   "source": [
    "Probali smo da uklonimo karakteristike koje se nisu pokazale kao bitne, ali dobili smo _MAE_ losiji za 0.01."
   ]
  },
  {
   "cell_type": "code",
   "execution_count": 14,
   "id": "eb35a0f8",
   "metadata": {},
   "outputs": [],
   "source": [
    "recordsForXGB = []\n",
    "for _, row in data.iterrows():\n",
    "    recordsForXGB.append({\n",
    "        \"Brand\": row[\"Brand\"],\n",
    "        \"Accords\": row[\"Accords\"],\n",
    "        \"Rating\": row[\"Rating\"]\n",
    "    })"
   ]
  },
  {
   "cell_type": "code",
   "execution_count": 15,
   "id": "069a18a9",
   "metadata": {},
   "outputs": [],
   "source": [
    "structured_df_XGB = pd.DataFrame(recordsForXGB)\n",
    "structured_df_XGB['All Notes'] = data['Notes'].apply(consolidate_notes)"
   ]
  },
  {
   "cell_type": "code",
   "execution_count": 16,
   "id": "80e9e3d3",
   "metadata": {},
   "outputs": [],
   "source": [
    "ohe = OneHotEncoder(sparse_output=False)\n",
    "ohe_features = pd.DataFrame(\n",
    "    ohe.fit_transform(structured_df_XGB[['Brand']]),\n",
    "    columns=ohe.get_feature_names_out(['Brand'])\n",
    ")\n",
    "\n",
    "all_unique_notes = set(note for notes in structured_df_XGB['All Notes'] for note in notes)\n",
    "note_df = pd.DataFrame(\n",
    "    {f'Note_{note}': structured_df_XGB['All Notes'].apply(lambda x: 1 if note in x else 0)\n",
    "     for note in all_unique_notes}\n",
    ")\n",
    "\n",
    "all_unique_accords = set(accord for accords in structured_df_XGB['Accords'] for accord in accords)\n",
    "accord_df = pd.DataFrame(\n",
    "    {f'Accord_{accord}': structured_df_XGB['Accords'].apply(lambda x: 1 if accord in x else 0)\n",
    "     for accord in all_unique_accords}\n",
    ")\n",
    "\n",
    "structured_df_XGB = pd.concat([structured_df_XGB, note_df, accord_df], axis=1)\n",
    "\n",
    "X = pd.concat([ohe_features, structured_df_XGB.drop(columns=['Brand', 'Rating', 'All Notes', 'Accords'])], axis=1)\n",
    "y = structured_df_XGB['Rating']"
   ]
  },
  {
   "cell_type": "code",
   "execution_count": 17,
   "id": "a56c3c97",
   "metadata": {},
   "outputs": [],
   "source": [
    "X_train, X_test, y_train, y_test = train_test_split(X, y, test_size=0.2, random_state=42)"
   ]
  },
  {
   "cell_type": "code",
   "execution_count": 18,
   "id": "b241a58e",
   "metadata": {},
   "outputs": [
    {
     "name": "stdout",
     "output_type": "stream",
     "text": [
      "XGBoost R^2: 0.2054081880032761\n",
      "XGBoost MAE: 0.17194012527366215\n",
      "XGBoost RMSE: 0.22306441122524712\n"
     ]
    }
   ],
   "source": [
    "xgb_model_novo = XGBRegressor(random_state=42)\n",
    "xgb_model_novo.fit(X_train, y_train)\n",
    "y_xgb_pred = xgb_model_novo.predict(X_test)\n",
    "\n",
    "print(\"XGBoost R^2:\", xgb_model_novo.score(X_test, y_test))\n",
    "print(\"XGBoost MAE:\", mean_absolute_error(y_test, y_xgb_pred))\n",
    "print(\"XGBoost RMSE:\", np.sqrt(mean_squared_error(y_test, y_xgb_pred)))"
   ]
  },
  {
   "cell_type": "code",
   "execution_count": 20,
   "id": "1d7578cd",
   "metadata": {},
   "outputs": [
    {
     "ename": "ValueError",
     "evalue": "Length of values (1167) does not match length of index (1155)",
     "output_type": "error",
     "traceback": [
      "\u001b[31m---------------------------------------------------------------------------\u001b[39m",
      "\u001b[31mValueError\u001b[39m                                Traceback (most recent call last)",
      "\u001b[36mCell\u001b[39m\u001b[36m \u001b[39m\u001b[32mIn[20]\u001b[39m\u001b[32m, line 1\u001b[39m\n\u001b[32m----> \u001b[39m\u001b[32m1\u001b[39m importances = \u001b[43mpd\u001b[49m\u001b[43m.\u001b[49m\u001b[43mSeries\u001b[49m\u001b[43m(\u001b[49m\u001b[43mxgb_model\u001b[49m\u001b[43m.\u001b[49m\u001b[43mfeature_importances_\u001b[49m\u001b[43m,\u001b[49m\u001b[43m \u001b[49m\u001b[43mindex\u001b[49m\u001b[43m=\u001b[49m\u001b[43mX_train\u001b[49m\u001b[43m.\u001b[49m\u001b[43mcolumns\u001b[49m\u001b[43m)\u001b[49m\n\u001b[32m      2\u001b[39m brand_importance = importances[importances.index.str.startswith(\u001b[33m\"\u001b[39m\u001b[33mBrand_\u001b[39m\u001b[33m\"\u001b[39m)].sum()\n\u001b[32m      3\u001b[39m notes_importance = importances[importances.index.str.startswith(\u001b[33m\"\u001b[39m\u001b[33mNote_\u001b[39m\u001b[33m\"\u001b[39m)].sum()\n",
      "\u001b[36mFile \u001b[39m\u001b[32m~/.local/lib/python3.13/site-packages/pandas/core/series.py:575\u001b[39m, in \u001b[36mSeries.__init__\u001b[39m\u001b[34m(self, data, index, dtype, name, copy, fastpath)\u001b[39m\n\u001b[32m    573\u001b[39m     index = default_index(\u001b[38;5;28mlen\u001b[39m(data))\n\u001b[32m    574\u001b[39m \u001b[38;5;28;01melif\u001b[39;00m is_list_like(data):\n\u001b[32m--> \u001b[39m\u001b[32m575\u001b[39m     \u001b[43mcom\u001b[49m\u001b[43m.\u001b[49m\u001b[43mrequire_length_match\u001b[49m\u001b[43m(\u001b[49m\u001b[43mdata\u001b[49m\u001b[43m,\u001b[49m\u001b[43m \u001b[49m\u001b[43mindex\u001b[49m\u001b[43m)\u001b[49m\n\u001b[32m    577\u001b[39m \u001b[38;5;66;03m# create/copy the manager\u001b[39;00m\n\u001b[32m    578\u001b[39m \u001b[38;5;28;01mif\u001b[39;00m \u001b[38;5;28misinstance\u001b[39m(data, (SingleBlockManager, SingleArrayManager)):\n",
      "\u001b[36mFile \u001b[39m\u001b[32m~/.local/lib/python3.13/site-packages/pandas/core/common.py:573\u001b[39m, in \u001b[36mrequire_length_match\u001b[39m\u001b[34m(data, index)\u001b[39m\n\u001b[32m    569\u001b[39m \u001b[38;5;250m\u001b[39m\u001b[33;03m\"\"\"\u001b[39;00m\n\u001b[32m    570\u001b[39m \u001b[33;03mCheck the length of data matches the length of the index.\u001b[39;00m\n\u001b[32m    571\u001b[39m \u001b[33;03m\"\"\"\u001b[39;00m\n\u001b[32m    572\u001b[39m \u001b[38;5;28;01mif\u001b[39;00m \u001b[38;5;28mlen\u001b[39m(data) != \u001b[38;5;28mlen\u001b[39m(index):\n\u001b[32m--> \u001b[39m\u001b[32m573\u001b[39m     \u001b[38;5;28;01mraise\u001b[39;00m \u001b[38;5;167;01mValueError\u001b[39;00m(\n\u001b[32m    574\u001b[39m         \u001b[33m\"\u001b[39m\u001b[33mLength of values \u001b[39m\u001b[33m\"\u001b[39m\n\u001b[32m    575\u001b[39m         \u001b[33mf\u001b[39m\u001b[33m\"\u001b[39m\u001b[33m(\u001b[39m\u001b[38;5;132;01m{\u001b[39;00m\u001b[38;5;28mlen\u001b[39m(data)\u001b[38;5;132;01m}\u001b[39;00m\u001b[33m) \u001b[39m\u001b[33m\"\u001b[39m\n\u001b[32m    576\u001b[39m         \u001b[33m\"\u001b[39m\u001b[33mdoes not match length of index \u001b[39m\u001b[33m\"\u001b[39m\n\u001b[32m    577\u001b[39m         \u001b[33mf\u001b[39m\u001b[33m\"\u001b[39m\u001b[33m(\u001b[39m\u001b[38;5;132;01m{\u001b[39;00m\u001b[38;5;28mlen\u001b[39m(index)\u001b[38;5;132;01m}\u001b[39;00m\u001b[33m)\u001b[39m\u001b[33m\"\u001b[39m\n\u001b[32m    578\u001b[39m     )\n",
      "\u001b[31mValueError\u001b[39m: Length of values (1167) does not match length of index (1155)"
     ]
    }
   ],
   "source": [
    "importances = pd.Series(xgb_model.feature_importances_, index=X_train.columns)\n",
    "brand_importance = importances[importances.index.str.startswith(\"Brand_\")].sum()\n",
    "notes_importance = importances[importances.index.str.startswith(\"Note_\")].sum()\n",
    "accords_importance = importances[importances.index.str.startswith(\"Accord_\")].sum()\n",
    "\n",
    "print(\"Ukupna važnost Brand:\", brand_importance)\n",
    "print(\"Ukupna važnost Notes:\", notes_importance)\n",
    "print(\"Ukupna važnost Notes:\", accords_importance)\n",
    "\n",
    "group_importances = pd.Series({\n",
    "    \"Brand\": brand_importance,\n",
    "    \"Notes\": notes_importance,\n",
    "    \"Accords\" : accords_importance\n",
    "})\n",
    "\n",
    "# Print rezultata\n",
    "print(group_importances)\n",
    "\n",
    "# Vizualizacija\n",
    "plt.figure(figsize=(8,5))\n",
    "group_importances.plot(kind=\"bar\", color=\"skyblue\")\n",
    "plt.title(\"Ukupna važnost grupa feature-a\")\n",
    "plt.ylabel(\"Feature Importance\")\n",
    "plt.show()"
   ]
  }
 ],
 "metadata": {
  "kernelspec": {
   "display_name": "Python 3",
   "language": "python",
   "name": "python3"
  },
  "language_info": {
   "codemirror_mode": {
    "name": "ipython",
    "version": 3
   },
   "file_extension": ".py",
   "mimetype": "text/x-python",
   "name": "python",
   "nbconvert_exporter": "python",
   "pygments_lexer": "ipython3",
   "version": "3.13.7"
  }
 },
 "nbformat": 4,
 "nbformat_minor": 5
}
