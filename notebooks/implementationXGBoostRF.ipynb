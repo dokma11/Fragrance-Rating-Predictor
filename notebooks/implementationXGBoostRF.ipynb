{
 "cells": [
  {
   "cell_type": "markdown",
   "id": "18f91cf8",
   "metadata": {},
   "source": [
    "**Implementacija predikcije ocene parfema uz koriscenje XGBoost i Random Forest**\n",
    "\n",
    "Pre svega treba importovati sve potrebne pakete koji ce nam sluziti za analizu."
   ]
  },
  {
   "cell_type": "code",
   "execution_count": 90,
   "id": "eeb20d84",
   "metadata": {},
   "outputs": [],
   "source": [
    "import pandas as pd\n",
    "import numpy as np\n",
    "from sklearn.model_selection import train_test_split\n",
    "from sklearn.preprocessing import OneHotEncoder\n",
    "from sklearn.ensemble import RandomForestRegressor\n",
    "from xgboost import XGBRegressor\n",
    "import tensorflow as tf\n",
    "from sklearn.metrics import mean_absolute_error, mean_squared_error\n",
    "import re\n",
    "from ast import literal_eval\n",
    "import matplotlib.pyplot as plt\n"
   ]
  },
  {
   "cell_type": "markdown",
   "id": "ebccacab",
   "metadata": {},
   "source": [
    "Funckija *parse_season_ratings* sluzi za za parsiranje polja godisnja doba iz skupa podataka, dok funckija *consolidate_notes* objedinjuje/konsoliduje base, middle i top note u jednu kolekciju"
   ]
  },
  {
   "cell_type": "code",
   "execution_count": 91,
   "id": "45a4faa7",
   "metadata": {},
   "outputs": [],
   "source": [
    "def parse_season_ratings(rating_str):\n",
    "    pattern = r'([A-Za-z]+):\\s*([0-9.]+)%'\n",
    "    return {season: float(percent) for season, percent in re.findall(pattern, rating_str)}\n",
    "\n",
    "def consolidate_notes(notes):\n",
    "    all_notes = []\n",
    "    for note_type in ['Top Notes', 'Middle Notes', 'Base Notes']:\n",
    "        if note_type in notes:\n",
    "            all_notes.extend(notes[note_type])\n",
    "    return all_notes\n"
   ]
  },
  {
   "cell_type": "markdown",
   "id": "838c9ba4",
   "metadata": {},
   "source": [
    "Ucitavanje skupa podataka"
   ]
  },
  {
   "cell_type": "code",
   "execution_count": 92,
   "id": "c915606f",
   "metadata": {},
   "outputs": [],
   "source": [
    "file_path = \"../datasets/mainDataset.csv\"  \n",
    "data = pd.read_csv(file_path, delimiter='|')"
   ]
  },
  {
   "cell_type": "markdown",
   "id": "1661f840",
   "metadata": {},
   "source": [
    "Prasiranje nekih relevantnih polja iz skupa podataka, zbog njihovog oblika cuvanja u dataset, koji ce biti ulaz u algoritme. Koristila se metoda literal_Eval za bezbedno parsiranje stringova koji predstavljaju Python literale u stvarne Python objekte."
   ]
  },
  {
   "cell_type": "code",
   "execution_count": 93,
   "id": "81f9bdc5",
   "metadata": {},
   "outputs": [],
   "source": [
    "data['Accords'] = data['Accords'].apply(literal_eval)\n",
    "data['Notes'] = data['Notes'].apply(literal_eval)\n",
    "data['Votes'] = data['Rating'].apply(lambda x: literal_eval(x)['votes'])\n",
    "data['Rating'] = data['Rating'].apply(lambda x: literal_eval(x)['rating'])\n",
    "data['Season ratings'] = data['Season ratings'].apply(parse_season_ratings)\n",
    "data['Day ratings'] = data['Day ratings'].apply(parse_season_ratings)\n",
    "data['Designers'] = data['Designers'].apply(literal_eval)\n"
   ]
  },
  {
   "cell_type": "markdown",
   "id": "e94c6a8c",
   "metadata": {},
   "source": [
    "Izdvajanje relevantnih polja i stvaranje recorda i formiranje Data Frame koji sadrzi svaki parfem iz skupa podataka u pogodnom obliku. URL slike parfma i tekstualni opis nisu bili releventni za eksperiment, kao i samo ime parfema."
   ]
  },
  {
   "cell_type": "code",
   "execution_count": 94,
   "id": "0df97ee2",
   "metadata": {},
   "outputs": [],
   "source": [
    "records = []\n",
    "for _, row in data.iterrows():\n",
    "    records.append({\n",
    "        \"Brand\": row[\"Brand\"],\n",
    "        \"Accords\": row[\"Accords\"],\n",
    "        \"Gender\": row[\"Gender\"],\n",
    "        \"Longevity\": row[\"Longevity\"],\n",
    "        \"Sillage\": row[\"Sillage\"],\n",
    "        \"Rating\": row[\"Rating\"],\n",
    "        \"Votes\" : row[\"Votes\"],\n",
    "        \"Season_Winter\": row[\"Season ratings\"].get(\"Winter\", 0),\n",
    "        \"Season_Spring\": row[\"Season ratings\"].get(\"Spring\", 0),\n",
    "        \"Season_Summer\": row[\"Season ratings\"].get(\"Summer\", 0),\n",
    "        \"Season_Fall\": row[\"Season ratings\"].get(\"Fall\", 0),\n",
    "        \"Day\": row[\"Day ratings\"].get(\"Day\", 0),\n",
    "        \"Night\": row[\"Day ratings\"].get(\"Night\", 0)\n",
    "    })"
   ]
  },
  {
   "cell_type": "markdown",
   "id": "fa9c94d3",
   "metadata": {},
   "source": [
    "Formiranje DataFrame-a i dodavanje obelezja koji cini sve note jednog parfema (note nisu razlozene po base, middle i top notes). \n",
    "Takodje je izvresen i eksperiment gde je iz celije ispod uklonjeno (apply(consolidate_notes)), rezultati za MAE I RMSE bili malo losiji (MAE je bilo veci za 0.005), ali R^2 je bio malo bolji (manj za 0.02) jer jer sad model zna nešto o hemiji/parfemskoj kompoziciji. Zakljuceno je da model lakše uči koje kombinacije nota se češće povezuju sa višim (ili nižim) ocenama. Model uči samo prisustvo/odsustvo nota, a ne i njihovu hijerarhiju. To je kompromis: jednostavnija reprezentacija → jasniji signal, ali manje detalja."
   ]
  },
  {
   "cell_type": "code",
   "execution_count": 95,
   "id": "424362a4",
   "metadata": {},
   "outputs": [],
   "source": [
    "structured_df = pd.DataFrame(records)\n",
    "structured_df['All Notes'] = data['Notes'].apply(consolidate_notes)\n"
   ]
  },
  {
   "cell_type": "markdown",
   "id": "3051ca35",
   "metadata": {},
   "source": [
    "Kategorijske kolone Brand i Gender su pretvorene u one-hot enkodirane kolone, dok su sve jedinstvene note iz All Notes pretvorene u binarne indikatorske kolone koje pokazuju prisustvo svake note, kao i akordi."
   ]
  },
  {
   "cell_type": "code",
   "execution_count": 96,
   "id": "2463d218",
   "metadata": {},
   "outputs": [],
   "source": [
    "ohe = OneHotEncoder(sparse_output=False)\n",
    "ohe_features = pd.DataFrame(\n",
    "    ohe.fit_transform(structured_df[['Brand', 'Gender']]),\n",
    "    columns=ohe.get_feature_names_out(['Brand', 'Gender'])\n",
    ")\n",
    "\n",
    "all_unique_notes = set(note for notes in structured_df['All Notes'] for note in notes)\n",
    "note_df = pd.DataFrame(\n",
    "    {f'Note_{note}': structured_df['All Notes'].apply(lambda x: 1 if note in x else 0)\n",
    "     for note in all_unique_notes}\n",
    ")\n",
    "\n",
    "all_unique_accords = set(accord for accords in structured_df['Accords'] for accord in accords)\n",
    "accord_df = pd.DataFrame(\n",
    "    {f'Accord_{accord}': structured_df['Accords'].apply(lambda x: 1 if accord in x else 0)\n",
    "     for accord in all_unique_accords}\n",
    ")\n",
    "\n",
    "structured_df = pd.concat([structured_df, note_df, accord_df], axis=1)\n",
    "\n",
    "X = pd.concat([ohe_features, structured_df.drop(columns=['Brand', 'Gender', 'Rating', 'All Notes', 'Accords'])], axis=1)\n",
    "y = structured_df['Rating']\n"
   ]
  },
  {
   "cell_type": "code",
   "execution_count": 97,
   "id": "5d6d0b32",
   "metadata": {},
   "outputs": [],
   "source": [
    "\n",
    "X_train, X_test, y_train, y_test = train_test_split(X, y, test_size=0.2, random_state=42)\n"
   ]
  },
  {
   "cell_type": "code",
   "execution_count": 85,
   "id": "3f0fae28",
   "metadata": {},
   "outputs": [
    {
     "name": "stdout",
     "output_type": "stream",
     "text": [
      "Random Forest R^2: 0.38510803893853895\n",
      "Random Forest MAE: 0.1513336814621409\n",
      "Random Forest RMSE: 0.1962264971208622\n"
     ]
    }
   ],
   "source": [
    "\n",
    "rf_model = RandomForestRegressor(random_state=42)\n",
    "rf_model.fit(X_train, y_train)\n",
    "y_pred = rf_model.predict(X_test)\n",
    "\n",
    "print(\"Random Forest R^2:\", rf_model.score(X_test, y_test))\n",
    "print(\"Random Forest MAE:\", mean_absolute_error(y_test, y_pred))\n",
    "print(\"Random Forest RMSE:\", np.sqrt(mean_squared_error(y_test, y_pred)))\n"
   ]
  },
  {
   "cell_type": "code",
   "execution_count": 86,
   "id": "99a59169",
   "metadata": {},
   "outputs": [],
   "source": [
    "importances = pd.Series(rf_model.feature_importances_, index=X_train.columns)\n",
    "#top_features = importances.sort_values(ascending=False).head(30)\n",
    "#print(top_features)\n",
    "#plt.figure(figsize=(10,6))\n",
    "#top_features.plot(kind=\"barh\")\n",
    "#plt.title(\"Top 20 Feature Importances - Random Forest\")\n",
    "#plt.gca().invert_yaxis()\n",
    "#plt.show()"
   ]
  },
  {
   "cell_type": "markdown",
   "id": "5468212d",
   "metadata": {},
   "source": [
    "Uradjen je feature importance za Randon Forest iz kojeg se moze videti da su najvaznija obelezja zapravo note, karakteristika parfema kojem godisnjem dobu pripada je takodje zajedno sa njegovom dugotrajnoscu jos jedna istaknuta i bitna karakteristika. Finalno brend, broj glasova (odnsno popularnost), akordi imaju znacaj ali manji u odnsou na prethodno navedene karakteristike. Moze se uvideti da  vaznost karakteristike koliko je parfem za noc ili dan ima znacaja ali nije previse relevantna (manje od 10%). Karakteristika Sillage koja zapravo opisuje mirisni trag odnosno auru parfema nije bila mnogo znacajna. A najmanje znacajna karaktersitika je Gender, sto nam prikazuje da ni jedna kategorija tog obelezja nepreovladava i da parfemi iako su potekli sa karakteristikom muski/zenski da sve manje ta karakteristika ima uticaj i znacanje, vec parfem sluzi da opise zamisljeni osecaj, nego da bude prikladan odredjenom polu. Takodje u poslednjih nekoliko godina sve vise unisex parfema se kreira."
   ]
  },
  {
   "cell_type": "code",
   "execution_count": 74,
   "id": "638683b4",
   "metadata": {},
   "outputs": [
    {
     "name": "stdout",
     "output_type": "stream",
     "text": [
      "Ukupna važnost Brand: 0.1086533000734435\n",
      "Ukupna važnost Gender: 0.024110335697178898\n",
      "Ukupna važnost Notes: 0.2303144561946555\n",
      "Ukupna važnost Season: 0.1530992242859622\n",
      "Ukupna važnost Day/Night: 0.08722180347845152\n",
      "Važnost Longevity: 0.14398194507627513\n",
      "Važnost Sillage: 0.03341814130104291\n",
      "Važnost Votes: 0.11083045330984331\n",
      "Brand        0.108653\n",
      "Gender       0.024110\n",
      "Notes        0.230314\n",
      "Season       0.153099\n",
      "Day/Night    0.087222\n",
      "Longevity    0.143982\n",
      "Sillage      0.033418\n",
      "Votes        0.110830\n",
      "Accords      0.108370\n",
      "dtype: float64\n"
     ]
    },
    {
     "data": {
      "image/png": "[encoded data removed]",
      "text/plain": [
       "<Figure size 800x500 with 1 Axes>"
      ]
     },
     "metadata": {},
     "output_type": "display_data"
    }
   ],
   "source": [
    "brand_importance = importances[importances.index.str.startswith(\"Brand_\")].sum()\n",
    "gender_importance = importances[importances.index.str.startswith(\"Gender_\")].sum()\n",
    "notes_importance = importances[importances.index.str.startswith(\"Note_\")].sum()\n",
    "season_importance = importances[importances.index.str.startswith(\"Season_\")].sum()\n",
    "day_night_importance = importances[importances.index.str.startswith(\"Day\") | importances.index.str.startswith(\"Night\")].sum()\n",
    "longevity_importance = importances[\"Longevity\"]\n",
    "sillage_importance = importances[\"Sillage\"]\n",
    "votes_importance = importances[\"Votes\"]\n",
    "accords_importance = importances[importances.index.str.startswith(\"Accord_\")].sum()\n",
    "\n",
    "print(\"Ukupna važnost Brand:\", brand_importance)\n",
    "print(\"Ukupna važnost Gender:\", gender_importance)\n",
    "print(\"Ukupna važnost Notes:\", notes_importance)\n",
    "print(\"Ukupna važnost Season:\", season_importance)\n",
    "print(\"Ukupna važnost Day/Night:\", day_night_importance)\n",
    "print(\"Važnost Longevity:\", longevity_importance)\n",
    "print(\"Važnost Sillage:\", sillage_importance)\n",
    "print(\"Važnost Votes:\", votes_importance)\n",
    "\n",
    "group_importances = pd.Series({\n",
    "    \"Brand\": brand_importance,\n",
    "    \"Gender\": gender_importance,\n",
    "    \"Notes\": notes_importance,\n",
    "    \"Season\": season_importance,\n",
    "    \"Day/Night\": day_night_importance,\n",
    "    \"Longevity\": longevity_importance,\n",
    "    \"Sillage\": sillage_importance,\n",
    "    \"Votes\": votes_importance,\n",
    "    \"Accords\" : accords_importance\n",
    "})\n",
    "\n",
    "# Print rezultata\n",
    "print(group_importances)\n",
    "\n",
    "# Vizualizacija\n",
    "plt.figure(figsize=(8,5))\n",
    "group_importances.plot(kind=\"bar\", color=\"skyblue\")\n",
    "plt.title(\"Ukupna važnost grupa feature-a\")\n",
    "plt.ylabel(\"Feature Importance\")\n",
    "plt.show()"
   ]
  },
  {
   "cell_type": "code",
   "execution_count": 98,
   "id": "5c1dda63",
   "metadata": {},
   "outputs": [
    {
     "name": "stdout",
     "output_type": "stream",
     "text": [
      "XGBoost R^2: 0.2792446449587108\n",
      "XGBoost MAE: 0.1631534051770641\n",
      "XGBoost RMSE: 0.21244777280037297\n"
     ]
    }
   ],
   "source": [
    "\n",
    "xgb_model = XGBRegressor(random_state=42)\n",
    "xgb_model.fit(X_train, y_train)\n",
    "y_xgb_pred = xgb_model.predict(X_test)\n",
    "\n",
    "print(\"XGBoost R^2:\", xgb_model.score(X_test, y_test))\n",
    "print(\"XGBoost MAE:\", mean_absolute_error(y_test, y_xgb_pred))\n",
    "print(\"XGBoost RMSE:\", np.sqrt(mean_squared_error(y_test, y_xgb_pred)))\n"
   ]
  },
  {
   "cell_type": "markdown",
   "id": "aea5747f",
   "metadata": {},
   "source": [
    "Nakon uradjenog feature importance sa istim vrednostima kao za xgboost, moze se primertii da polja koja su bila releventna kod random forest, uopste nisu relevantna za xgboost. Jedina relevantna polja su Notes, Brand i Accords."
   ]
  },
  {
   "cell_type": "code",
   "execution_count": 99,
   "id": "c86d301e",
   "metadata": {},
   "outputs": [
    {
     "name": "stdout",
     "output_type": "stream",
     "text": [
      "Ukupna važnost Brand: 0.27935246\n",
      "Ukupna važnost Gender: 0.017788015\n",
      "Ukupna važnost Notes: 0.49325663\n",
      "Ukupna važnost Season: 0.0197994\n",
      "Ukupna važnost Day/Night: 0.011299353\n",
      "Važnost Longevity: 0.006218395\n",
      "Važnost Sillage: 0.0024645892\n",
      "Važnost Votes: 0.0075986865\n",
      "Brand        0.279352\n",
      "Gender       0.017788\n",
      "Notes        0.493257\n",
      "Season       0.019799\n",
      "Day/Night    0.011299\n",
      "Longevity    0.006218\n",
      "Sillage      0.002465\n",
      "Votes        0.007599\n",
      "Accords      0.162223\n",
      "dtype: float32\n"
     ]
    },
    {
     "data": {
      "image/png": "[encoded data removed]",
      "text/plain": [
       "<Figure size 800x500 with 1 Axes>"
      ]
     },
     "metadata": {},
     "output_type": "display_data"
    }
   ],
   "source": [
    "importances = pd.Series(xgb_model.feature_importances_, index=X_train.columns)\n",
    "brand_importance = importances[importances.index.str.startswith(\"Brand_\")].sum()\n",
    "gender_importance = importances[importances.index.str.startswith(\"Gender_\")].sum()\n",
    "notes_importance = importances[importances.index.str.startswith(\"Note_\")].sum()\n",
    "season_importance = importances[importances.index.str.startswith(\"Season_\")].sum()\n",
    "day_night_importance = importances[importances.index.str.startswith(\"Day\") | importances.index.str.startswith(\"Night\")].sum()\n",
    "longevity_importance = importances[\"Longevity\"]\n",
    "sillage_importance = importances[\"Sillage\"]\n",
    "votes_importance = importances[\"Votes\"]\n",
    "accords_importance = importances[importances.index.str.startswith(\"Accord_\")].sum()\n",
    "\n",
    "print(\"Ukupna važnost Brand:\", brand_importance)\n",
    "print(\"Ukupna važnost Gender:\", gender_importance)\n",
    "print(\"Ukupna važnost Notes:\", notes_importance)\n",
    "print(\"Ukupna važnost Season:\", season_importance)\n",
    "print(\"Ukupna važnost Day/Night:\", day_night_importance)\n",
    "print(\"Važnost Longevity:\", longevity_importance)\n",
    "print(\"Važnost Sillage:\", sillage_importance)\n",
    "print(\"Važnost Votes:\", votes_importance)\n",
    "\n",
    "group_importances = pd.Series({\n",
    "    \"Brand\": brand_importance,\n",
    "    \"Gender\": gender_importance,\n",
    "    \"Notes\": notes_importance,\n",
    "    \"Season\": season_importance,\n",
    "    \"Day/Night\": day_night_importance,\n",
    "    \"Longevity\": longevity_importance,\n",
    "    \"Sillage\": sillage_importance,\n",
    "    \"Votes\": votes_importance,\n",
    "    \"Accords\" : accords_importance\n",
    "})\n",
    "\n",
    "# Print rezultata\n",
    "print(group_importances)\n",
    "\n",
    "# Vizualizacija\n",
    "plt.figure(figsize=(8,5))\n",
    "group_importances.plot(kind=\"bar\", color=\"skyblue\")\n",
    "plt.title(\"Ukupna važnost grupa feature-a\")\n",
    "plt.ylabel(\"Feature Importance\")\n",
    "plt.show()"
   ]
  },
  {
   "cell_type": "markdown",
   "id": "c000a1ef",
   "metadata": {},
   "source": [
    "Probali smo da uklonimo karakteristike koje se nisu pokazale kao bitne, ali dobili smo MAE losiji za 0.01"
   ]
  },
  {
   "cell_type": "code",
   "execution_count": 112,
   "id": "eb35a0f8",
   "metadata": {},
   "outputs": [],
   "source": [
    "recordsForXGB = []\n",
    "for _, row in data.iterrows():\n",
    "    recordsForXGB.append({\n",
    "        \"Brand\": row[\"Brand\"],\n",
    "        \"Accords\": row[\"Accords\"],\n",
    "        \"Rating\": row[\"Rating\"]\n",
    "    })"
   ]
  },
  {
   "cell_type": "code",
   "execution_count": 113,
   "id": "069a18a9",
   "metadata": {},
   "outputs": [],
   "source": [
    "structured_df_XGB = pd.DataFrame(recordsForXGB)\n",
    "structured_df_XGB['All Notes'] = data['Notes'].apply(consolidate_notes)"
   ]
  },
  {
   "cell_type": "code",
   "execution_count": 114,
   "id": "80e9e3d3",
   "metadata": {},
   "outputs": [],
   "source": [
    "ohe = OneHotEncoder(sparse_output=False)\n",
    "ohe_features = pd.DataFrame(\n",
    "    ohe.fit_transform(structured_df_XGB[['Brand']]),\n",
    "    columns=ohe.get_feature_names_out(['Brand'])\n",
    ")\n",
    "\n",
    "all_unique_notes = set(note for notes in structured_df_XGB['All Notes'] for note in notes)\n",
    "note_df = pd.DataFrame(\n",
    "    {f'Note_{note}': structured_df_XGB['All Notes'].apply(lambda x: 1 if note in x else 0)\n",
    "     for note in all_unique_notes}\n",
    ")\n",
    "\n",
    "all_unique_accords = set(accord for accords in structured_df_XGB['Accords'] for accord in accords)\n",
    "accord_df = pd.DataFrame(\n",
    "    {f'Accord_{accord}': structured_df_XGB['Accords'].apply(lambda x: 1 if accord in x else 0)\n",
    "     for accord in all_unique_accords}\n",
    ")\n",
    "\n",
    "structured_df_XGB = pd.concat([structured_df_XGB, note_df, accord_df], axis=1)\n",
    "\n",
    "X = pd.concat([ohe_features, structured_df_XGB.drop(columns=['Brand', 'Rating', 'All Notes', 'Accords'])], axis=1)\n",
    "y = structured_df_XGB['Rating']"
   ]
  },
  {
   "cell_type": "code",
   "execution_count": 115,
   "id": "a56c3c97",
   "metadata": {},
   "outputs": [],
   "source": [
    "X_train, X_test, y_train, y_test = train_test_split(X, y, test_size=0.2, random_state=42)"
   ]
  },
  {
   "cell_type": "code",
   "execution_count": 118,
   "id": "b241a58e",
   "metadata": {},
   "outputs": [
    {
     "name": "stdout",
     "output_type": "stream",
     "text": [
      "XGBoost R^2: 0.20548582216108846\n",
      "XGBoost MAE: 0.17244735209811138\n",
      "XGBoost RMSE: 0.22305351390636316\n"
     ]
    }
   ],
   "source": [
    "xgb_model_novo = XGBRegressor(random_state=42)\n",
    "xgb_model_novo.fit(X_train, y_train)\n",
    "y_xgb_pred = xgb_model_novo.predict(X_test)\n",
    "\n",
    "print(\"XGBoost R^2:\", xgb_model_novo.score(X_test, y_test))\n",
    "print(\"XGBoost MAE:\", mean_absolute_error(y_test, y_xgb_pred))\n",
    "print(\"XGBoost RMSE:\", np.sqrt(mean_squared_error(y_test, y_xgb_pred)))"
   ]
  },
  {
   "cell_type": "code",
   "execution_count": 119,
   "id": "1d7578cd",
   "metadata": {},
   "outputs": [
    {
     "name": "stdout",
     "output_type": "stream",
     "text": [
      "Ukupna važnost Brand: 0.2848767\n",
      "Ukupna važnost Notes: 0.55551285\n",
      "Ukupna važnost Notes: 0.15961044\n",
      "Brand      0.284877\n",
      "Notes      0.555513\n",
      "Accords    0.159610\n",
      "dtype: float32\n"
     ]
    },
    {
     "data": {
      "image/png": "[encoded data removed]",
      "text/plain": [
       "<Figure size 800x500 with 1 Axes>"
      ]
     },
     "metadata": {},
     "output_type": "display_data"
    }
   ],
   "source": [
    "importances = pd.Series(xgb_model.feature_importances_, index=X_train.columns)\n",
    "brand_importance = importances[importances.index.str.startswith(\"Brand_\")].sum()\n",
    "notes_importance = importances[importances.index.str.startswith(\"Note_\")].sum()\n",
    "accords_importance = importances[importances.index.str.startswith(\"Accord_\")].sum()\n",
    "\n",
    "print(\"Ukupna važnost Brand:\", brand_importance)\n",
    "print(\"Ukupna važnost Notes:\", notes_importance)\n",
    "print(\"Ukupna važnost Notes:\", accords_importance)\n",
    "\n",
    "group_importances = pd.Series({\n",
    "    \"Brand\": brand_importance,\n",
    "    \"Notes\": notes_importance,\n",
    "    \"Accords\" : accords_importance\n",
    "})\n",
    "\n",
    "# Print rezultata\n",
    "print(group_importances)\n",
    "\n",
    "# Vizualizacija\n",
    "plt.figure(figsize=(8,5))\n",
    "group_importances.plot(kind=\"bar\", color=\"skyblue\")\n",
    "plt.title(\"Ukupna važnost grupa feature-a\")\n",
    "plt.ylabel(\"Feature Importance\")\n",
    "plt.show()"
   ]
  }
 ],
 "metadata": {
  "kernelspec": {
   "display_name": "Python 3",
   "language": "python",
   "name": "python3"
  },
  "language_info": {
   "codemirror_mode": {
    "name": "ipython",
    "version": 3
   },
   "file_extension": ".py",
   "mimetype": "text/x-python",
   "name": "python",
   "nbconvert_exporter": "python",
   "pygments_lexer": "ipython3",
   "version": "3.12.8"
  }
 },
 "nbformat": 4,
 "nbformat_minor": 5
}
