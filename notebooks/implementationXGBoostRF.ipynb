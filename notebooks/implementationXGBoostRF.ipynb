{
 "cells": [
  {
   "cell_type": "markdown",
   "id": "18f91cf8",
   "metadata": {},
   "source": [
    "**Implementacija predikcije ocene parfema uz koriscenje XGBoost i Random Forest**\n",
    "\n",
    "Pre svega treba importovati sve potrebne pakete koji ce nam sluziti za analizu."
   ]
  },
  {
   "cell_type": "code",
   "execution_count": 1,
   "id": "eeb20d84",
   "metadata": {},
   "outputs": [],
   "source": [
    "import pandas as pd\n",
    "import numpy as np\n",
    "from sklearn.model_selection import train_test_split\n",
    "from sklearn.preprocessing import OneHotEncoder\n",
    "from sklearn.ensemble import RandomForestRegressor\n",
    "from xgboost import XGBRegressor\n",
    "import tensorflow as tf\n",
    "from sklearn.metrics import mean_absolute_error, mean_squared_error\n",
    "import re\n",
    "from ast import literal_eval\n"
   ]
  },
  {
   "cell_type": "markdown",
   "id": "ebccacab",
   "metadata": {},
   "source": [
    "Funckija *parse_season_ratings* sluzi za za parsiranje polja godisnja doba iz skupa podataka, dok funckija *consolidate_notes* objedinjuje/konsoliduje base, middle i top note u jednu kolekciju"
   ]
  },
  {
   "cell_type": "code",
   "execution_count": 2,
   "id": "45a4faa7",
   "metadata": {},
   "outputs": [],
   "source": [
    "def parse_season_ratings(rating_str):\n",
    "    pattern = r'([A-Za-z]+):\\s*([0-9.]+)%'\n",
    "    return {season: float(percent) for season, percent in re.findall(pattern, rating_str)}\n",
    "\n",
    "def consolidate_notes(notes):\n",
    "    all_notes = []\n",
    "    for note_type in ['Top Notes', 'Middle Notes', 'Base Notes']:\n",
    "        if note_type in notes:\n",
    "            all_notes.extend(notes[note_type])\n",
    "    return all_notes\n"
   ]
  },
  {
   "cell_type": "markdown",
   "id": "838c9ba4",
   "metadata": {},
   "source": [
    "Ucitavanje skupa podataka"
   ]
  },
  {
   "cell_type": "code",
   "execution_count": 3,
   "id": "c915606f",
   "metadata": {},
   "outputs": [],
   "source": [
    "file_path = \"../datasets/mainDataset.csv\"  \n",
    "data = pd.read_csv(file_path, delimiter='|')"
   ]
  },
  {
   "cell_type": "markdown",
   "id": "1661f840",
   "metadata": {},
   "source": [
    "Izdvajanje relevantnih polja iz skupa podataka koji ce biti ulaz u algoritme.\n",
    "Bilo su isprobane razne kombinacije.. (popricati sa vukasinom sta cemo da napisemo)"
   ]
  },
  {
   "cell_type": "code",
   "execution_count": 4,
   "id": "81f9bdc5",
   "metadata": {},
   "outputs": [],
   "source": [
    "data['Accords'] = data['Accords'].apply(literal_eval)\n",
    "data['Notes'] = data['Notes'].apply(literal_eval)\n",
    "data['Votes'] = data['Rating'].apply(lambda x: literal_eval(x)['votes'])\n",
    "data['Rating'] = data['Rating'].apply(lambda x: literal_eval(x)['rating'])\n",
    "data['Season ratings'] = data['Season ratings'].apply(parse_season_ratings)\n",
    "data['Day ratings'] = data['Day ratings'].apply(parse_season_ratings)\n",
    "data['Designers'] = data['Designers'].apply(literal_eval)\n"
   ]
  },
  {
   "cell_type": "markdown",
   "id": "e94c6a8c",
   "metadata": {},
   "source": [
    "Stvaranje recorda i formiranje Data Frame koji sadrzi svaki parfem iz skupa podataka u pogodnom obliku i svih nota JEDNOG parfema"
   ]
  },
  {
   "cell_type": "code",
   "execution_count": 5,
   "id": "424362a4",
   "metadata": {},
   "outputs": [],
   "source": [
    "records = []\n",
    "for _, row in data.iterrows():\n",
    "    records.append({\n",
    "        \"Brand\": row[\"Brand\"],\n",
    "        \"Gender\": row[\"Gender\"],\n",
    "        \"Longevity\": row[\"Longevity\"],\n",
    "        \"Sillage\": row[\"Sillage\"],\n",
    "        \"Rating\": row[\"Rating\"],\n",
    "        \"Votes\" : row[\"Votes\"],\n",
    "        \"Season_Winter\": row[\"Season ratings\"].get(\"Winter\", 0),\n",
    "        \"Season_Spring\": row[\"Season ratings\"].get(\"Spring\", 0),\n",
    "        \"Season_Summer\": row[\"Season ratings\"].get(\"Summer\", 0),\n",
    "        \"Season_Fall\": row[\"Season ratings\"].get(\"Fall\", 0),\n",
    "        \"Day\": row[\"Day ratings\"].get(\"Day\", 0),\n",
    "        \"Night\": row[\"Day ratings\"].get(\"Night\", 0)\n",
    "    })\n",
    "\n",
    "structured_df = pd.DataFrame(records)\n",
    "structured_df['All Notes'] = data['Notes'].apply(consolidate_notes)\n"
   ]
  },
  {
   "cell_type": "markdown",
   "id": "3051ca35",
   "metadata": {},
   "source": [
    "Kategorijske kolone Brand i Gender su pretvorene u one-hot enkodirane kolone, dok su sve jedinstvene note iz All Notes pretvorene u binarne indikatorske kolone koje pokazuju prisustvo svake note."
   ]
  },
  {
   "cell_type": "code",
   "execution_count": 6,
   "id": "2463d218",
   "metadata": {},
   "outputs": [],
   "source": [
    "ohe = OneHotEncoder(sparse_output=False)\n",
    "ohe_features = pd.DataFrame(\n",
    "    ohe.fit_transform(structured_df[['Brand', 'Gender']]),\n",
    "    columns=ohe.get_feature_names_out(['Brand', 'Gender'])\n",
    ")\n",
    "\n",
    "all_unique_notes = set(note for notes in structured_df['All Notes'] for note in notes)\n",
    "note_df = pd.DataFrame(\n",
    "    {f'Note_{note}': structured_df['All Notes'].apply(lambda x: 1 if note in x else 0)\n",
    "     for note in all_unique_notes}\n",
    ")\n",
    "\n",
    "structured_df = pd.concat([structured_df, note_df], axis=1)\n",
    "\n",
    "X = pd.concat([ohe_features, structured_df.drop(columns=['Brand', 'Gender', 'Rating', 'All Notes'])], axis=1)\n",
    "y = structured_df['Rating']\n"
   ]
  },
  {
   "cell_type": "code",
   "execution_count": 7,
   "id": "5d6d0b32",
   "metadata": {},
   "outputs": [],
   "source": [
    "\n",
    "X_train, X_test, y_train, y_test = train_test_split(X, y, test_size=0.2, random_state=42)\n"
   ]
  },
  {
   "cell_type": "code",
   "execution_count": 8,
   "id": "3f0fae28",
   "metadata": {},
   "outputs": [
    {
     "name": "stdout",
     "output_type": "stream",
     "text": [
      "Random Forest R^2: 0.3775266246447101\n",
      "Random Forest MAE: 0.15133368146214102\n",
      "Random Forest RMSE: 0.19743249499089294\n"
     ]
    }
   ],
   "source": [
    "\n",
    "rf_model = RandomForestRegressor(random_state=42)\n",
    "rf_model.fit(X_train, y_train)\n",
    "y_pred = rf_model.predict(X_test)\n",
    "\n",
    "print(\"Random Forest R^2:\", rf_model.score(X_test, y_test))\n",
    "print(\"Random Forest MAE:\", mean_absolute_error(y_test, y_pred))\n",
    "print(\"Random Forest RMSE:\", np.sqrt(mean_squared_error(y_test, y_pred)))\n"
   ]
  },
  {
   "cell_type": "code",
   "execution_count": 9,
   "id": "5c1dda63",
   "metadata": {},
   "outputs": [
    {
     "name": "stdout",
     "output_type": "stream",
     "text": [
      "XGBoost R^2: 0.3314560345863199\n",
      "XGBoost MAE: 0.15685051415047505\n",
      "XGBoost RMSE: 0.20460829204292488\n"
     ]
    }
   ],
   "source": [
    "\n",
    "xgb_model = XGBRegressor(random_state=42)\n",
    "xgb_model.fit(X_train, y_train)\n",
    "y_xgb_pred = xgb_model.predict(X_test)\n",
    "\n",
    "print(\"XGBoost R^2:\", xgb_model.score(X_test, y_test))\n",
    "print(\"XGBoost MAE:\", mean_absolute_error(y_test, y_xgb_pred))\n",
    "print(\"XGBoost RMSE:\", np.sqrt(mean_squared_error(y_test, y_xgb_pred)))\n"
   ]
  }
 ],
 "metadata": {
  "kernelspec": {
   "display_name": "Python 3",
   "language": "python",
   "name": "python3"
  },
  "language_info": {
   "codemirror_mode": {
    "name": "ipython",
    "version": 3
   },
   "file_extension": ".py",
   "mimetype": "text/x-python",
   "name": "python",
   "nbconvert_exporter": "python",
   "pygments_lexer": "ipython3",
   "version": "3.12.8"
  }
 },
 "nbformat": 4,
 "nbformat_minor": 5
}
