{
 "cells": [
  {
   "cell_type": "markdown",
   "id": "18f91cf8",
   "metadata": {},
   "source": [
    "# Implementacija predikcije ocene parfema uz korišćenje _XGBoost_ i _Random Forest_\n",
    "\n",
    "Pre svega treba importovati sve potrebne pakete koji će nam služiti za analizu."
   ]
  },
  {
   "cell_type": "code",
   "execution_count": 88,
   "id": "eeb20d84",
   "metadata": {},
   "outputs": [],
   "source": [
    "import pandas as pd\n",
    "import numpy as np\n",
    "from sklearn.model_selection import train_test_split\n",
    "from sklearn.preprocessing import OneHotEncoder\n",
    "from sklearn.ensemble import RandomForestRegressor\n",
    "from xgboost import XGBRegressor\n",
    "import tensorflow as tf\n",
    "from sklearn.metrics import mean_absolute_error, mean_squared_error\n",
    "import re\n",
    "from ast import literal_eval\n",
    "import matplotlib.pyplot as plt"
   ]
  },
  {
   "cell_type": "markdown",
   "id": "ebccacab",
   "metadata": {},
   "source": [
    "Funckija `parse_season_ratings()` služi za za parsiranje polja godišnjih doba iz skupa podataka, dok funckija `consolidate_notes()` objedinjuje/konsoliduje _base_, _middle_ i _top_ note u jednu kolekciju."
   ]
  },
  {
   "cell_type": "code",
   "execution_count": 89,
   "id": "45a4faa7",
   "metadata": {},
   "outputs": [],
   "source": [
    "def parse_season_ratings(rating_str):\n",
    "    pattern = r'([A-Za-z]+):\\s*([0-9.]+)%'\n",
    "    return {season: float(percent) for season, percent in re.findall(pattern, rating_str)}\n",
    "\n",
    "def consolidate_notes(notes):\n",
    "    all_notes = []\n",
    "    for note_type in ['Top Notes', 'Middle Notes', 'Base Notes']:\n",
    "        if note_type in notes:\n",
    "            all_notes.extend(notes[note_type])\n",
    "    return all_notes"
   ]
  },
  {
   "cell_type": "markdown",
   "id": "838c9ba4",
   "metadata": {},
   "source": [
    "Učitavanje skupa podataka:"
   ]
  },
  {
   "cell_type": "code",
   "execution_count": 90,
   "id": "c915606f",
   "metadata": {},
   "outputs": [],
   "source": [
    "file_path = \"../datasets/mainDataset.csv\"  \n",
    "data = pd.read_csv(file_path, delimiter='|')"
   ]
  },
  {
   "cell_type": "markdown",
   "id": "1661f840",
   "metadata": {},
   "source": [
    "Prasiranje nekih relevantnih polja iz skupa podataka, zbog njihovog oblika čuvanja u _dataset_-u, koji će biti ulaz u algoritme. Koristila se metoda `literal_Eval()` za bezbedno parsiranje stringova koji predstavljaju _Python_ literale u stvarne _Python_ objekte."
   ]
  },
  {
   "cell_type": "code",
   "execution_count": 91,
   "id": "81f9bdc5",
   "metadata": {},
   "outputs": [],
   "source": [
    "data['Accords'] = data['Accords'].apply(literal_eval)\n",
    "data['Notes'] = data['Notes'].apply(literal_eval)\n",
    "data['Votes'] = data['Rating'].apply(lambda x: literal_eval(x)['votes'])\n",
    "data['Rating'] = data['Rating'].apply(lambda x: literal_eval(x)['rating'])\n",
    "data['Season ratings'] = data['Season ratings'].apply(parse_season_ratings)\n",
    "data['Day ratings'] = data['Day ratings'].apply(parse_season_ratings)\n",
    "data['Designers'] = data['Designers'].apply(literal_eval)"
   ]
  },
  {
   "cell_type": "markdown",
   "id": "e94c6a8c",
   "metadata": {},
   "source": [
    "Izdvajanje relevantnih polja i stvaranje _record_-a i formiranje _Data Frame_-a koji sadrži svaki parfem iz skupa podataka u pogodnom obliku. _URL_ slike parfema i tekstualni opis nisu bili releventni za eksperiment, kao ni parfimeri a ni samo ime parfema."
   ]
  },
  {
   "cell_type": "code",
   "execution_count": 92,
   "id": "0df97ee2",
   "metadata": {},
   "outputs": [],
   "source": [
    "records = []\n",
    "for _, row in data.iterrows():\n",
    "    records.append({\n",
    "        \"Brand\": row[\"Brand\"],\n",
    "        \"Accords\": row[\"Accords\"],\n",
    "        \"Gender\": row[\"Gender\"],\n",
    "        \"Longevity\": row[\"Longevity\"],\n",
    "        \"Sillage\": row[\"Sillage\"],\n",
    "        \"Rating\": row[\"Rating\"],\n",
    "        \"Votes\" : row[\"Votes\"],\n",
    "        \"Season_Winter\": row[\"Season ratings\"].get(\"Winter\", 0),\n",
    "        \"Season_Spring\": row[\"Season ratings\"].get(\"Spring\", 0),\n",
    "        \"Season_Summer\": row[\"Season ratings\"].get(\"Summer\", 0),\n",
    "        \"Season_Fall\": row[\"Season ratings\"].get(\"Fall\", 0),\n",
    "        \"Day\": row[\"Day ratings\"].get(\"Day\", 0),\n",
    "        \"Night\": row[\"Day ratings\"].get(\"Night\", 0)\n",
    "    })"
   ]
  },
  {
   "cell_type": "markdown",
   "id": "fa9c94d3",
   "metadata": {},
   "source": [
    "Formiran je _DataFrame_ u kojem su objedinjene sve note pojedinačnog parfema, bez razdvajanja na _top_, _middle_ i _base notes_, odnosno implementirano je konsolidovanje nota. U kasnijem primeru, biće razdvajanja nota nakon čega ćemo uporediti rezultate. \n",
    "\n",
    "Kada je u pitanju implementacija sa konsolidovanjem nota, model uči samo prisustvo ili odsustvo nota, a ne i njihovu hijerarhiju. To je kompromis: jednostavnija reprezentacija → jasniji signal, ali manje detalja."
   ]
  },
  {
   "cell_type": "code",
   "execution_count": 93,
   "id": "424362a4",
   "metadata": {},
   "outputs": [],
   "source": [
    "structured_df = pd.DataFrame(records)\n",
    "structured_df['All Notes'] = data['Notes'].apply(consolidate_notes)"
   ]
  },
  {
   "cell_type": "markdown",
   "id": "3051ca35",
   "metadata": {},
   "source": [
    "Kategorijske kolone _Brand_ i _Gender_ su pretvorene u _one-hot_ enkodirane kolone, dok su sve jedinstvene note iz _All Notes_ pretvorene u binarne indikatorske kolone koje pokazuju prisustvo svake note, kao i akordi."
   ]
  },
  {
   "cell_type": "code",
   "execution_count": 94,
   "id": "2463d218",
   "metadata": {},
   "outputs": [],
   "source": [
    "ohe = OneHotEncoder(sparse_output=False)\n",
    "ohe_features = pd.DataFrame(\n",
    "    ohe.fit_transform(structured_df[['Brand', 'Gender']]),\n",
    "    columns=ohe.get_feature_names_out(['Brand', 'Gender'])\n",
    ")\n",
    "\n",
    "all_unique_notes = set(note for notes in structured_df['All Notes'] for note in notes)\n",
    "note_df = pd.DataFrame(\n",
    "    {f'Note_{note}': structured_df['All Notes'].apply(lambda x: 1 if note in x else 0)\n",
    "     for note in all_unique_notes}\n",
    ")\n",
    "\n",
    "all_unique_accords = set(accord for accords in structured_df['Accords'] for accord in accords)\n",
    "accord_df = pd.DataFrame(\n",
    "    {f'Accord_{accord}': structured_df['Accords'].apply(lambda x: 1 if accord in x else 0)\n",
    "     for accord in all_unique_accords}\n",
    ")\n",
    "\n",
    "structured_df = pd.concat([structured_df, note_df, accord_df], axis=1)\n",
    "\n",
    "X = pd.concat([ohe_features, structured_df.drop(columns=['Brand', 'Gender', 'Rating', 'All Notes', 'Accords'])], axis=1)\n",
    "y = structured_df['Rating']"
   ]
  },
  {
   "cell_type": "markdown",
   "id": "fc74557c",
   "metadata": {},
   "source": [
    "Skup je podeljen na _test_ i _train_ deo."
   ]
  },
  {
   "cell_type": "code",
   "execution_count": 95,
   "id": "5d6d0b32",
   "metadata": {},
   "outputs": [],
   "source": [
    "\n",
    "X_train, X_test, y_train, y_test = train_test_split(X, y, test_size=0.2, random_state=42)"
   ]
  },
  {
   "cell_type": "markdown",
   "id": "b89246ee",
   "metadata": {},
   "source": [
    "Pozivanje _Random Forest_-a."
   ]
  },
  {
   "cell_type": "code",
   "execution_count": 96,
   "id": "3f0fae28",
   "metadata": {},
   "outputs": [
    {
     "name": "stdout",
     "output_type": "stream",
     "text": [
      "Random Forest R^2: 0.3845959988417259\n",
      "Random Forest MAE: 0.15122271540469978\n",
      "Random Forest RMSE: 0.19630818214221005\n"
     ]
    }
   ],
   "source": [
    "rf_model = RandomForestRegressor(random_state=42)\n",
    "rf_model.fit(X_train, y_train)\n",
    "y_pred = rf_model.predict(X_test)\n",
    "\n",
    "print(\"Random Forest R^2:\", rf_model.score(X_test, y_test))\n",
    "print(\"Random Forest MAE:\", mean_absolute_error(y_test, y_pred))\n",
    "print(\"Random Forest RMSE:\", np.sqrt(mean_squared_error(y_test, y_pred)))"
   ]
  },
  {
   "cell_type": "markdown",
   "id": "475ed041",
   "metadata": {},
   "source": [
    "Pozivanje feature importance."
   ]
  },
  {
   "cell_type": "code",
   "execution_count": 97,
   "id": "99a59169",
   "metadata": {},
   "outputs": [],
   "source": [
    "importances = pd.Series(rf_model.feature_importances_, index=X_train.columns)\n",
    "#top_features = importances.sort_values(ascending=False).head(30)\n",
    "#print(top_features)\n",
    "#plt.figure(figsize=(10,6))\n",
    "#top_features.plot(kind=\"barh\")\n",
    "#plt.title(\"Top 20 Feature Importances - Random Forest\")\n",
    "#plt.gca().invert_yaxis()\n",
    "#plt.show()"
   ]
  },
  {
   "cell_type": "markdown",
   "id": "5468212d",
   "metadata": {},
   "source": [
    "Analizom _feature importance_ u okviru _Random Forest_ modela, utvrđeno je da su najznačajnije karakteristike za predikciju ocene parfema upravo mirisne note, kao i sezonska pripadnost parfema i njegova dugotrajnost. Ove osobine najviše doprinose tačnosti modela, jer direktno odražavaju mirisni profil i korisničke preferencije.\n",
    "\n",
    "Brend, broj glasova (popularnost) i akordi parfema takođe imaju uticaj na predikciju, ali njihov značaj je manji u poređenju sa prethodno navedenim karakteristikama. Analiza je pokazala da preporuka za nošenje parfema tokom dana ili noći ima ograničen značaj (manje od 10%), dok je _Sillage_ (intenzitet mirisnog traga) još manje relevantan za model.\n",
    "\n",
    "Najmanje značajna karakteristika je _Gender_, što ukazuje da polna pripadnost parfema sve manje utiče na korisničke ocene. Ovaj rezultat iskazuje praćenje savremenih trendova u industriji, gde se sve više kreiraju unisex parfemi, a izbor mirisa postaje lična preferenca, nezavisna od tradicionalnih polnih kategorija"
   ]
  },
  {
   "cell_type": "code",
   "execution_count": 98,
   "id": "638683b4",
   "metadata": {},
   "outputs": [
    {
     "name": "stdout",
     "output_type": "stream",
     "text": [
      "Ukupna važnost Brand: 0.11041437725572815\n",
      "Ukupna važnost Gender: 0.02367612318282602\n",
      "Ukupna važnost Notes: 0.22768424084069133\n",
      "Ukupna važnost Season: 0.1524929032367533\n",
      "Ukupna važnost Day/Night: 0.08888473306921227\n",
      "Važnost Longevity: 0.14370998799239046\n",
      "Važnost Sillage: 0.033168192839749415\n",
      "Važnost Votes: 0.11017793963857384\n",
      "Brand        0.110414\n",
      "Gender       0.023676\n",
      "Notes        0.227684\n",
      "Season       0.152493\n",
      "Day/Night    0.088885\n",
      "Longevity    0.143710\n",
      "Sillage      0.033168\n",
      "Votes        0.110178\n",
      "Accords      0.109792\n",
      "dtype: float64\n"
     ]
    },
    {
     "data": {
      "image/png": "[encoded data removed]",
      "text/plain": [
       "<Figure size 800x500 with 1 Axes>"
      ]
     },
     "metadata": {},
     "output_type": "display_data"
    }
   ],
   "source": [
    "brand_importance = importances[importances.index.str.startswith(\"Brand_\")].sum()\n",
    "gender_importance = importances[importances.index.str.startswith(\"Gender_\")].sum()\n",
    "notes_importance = importances[importances.index.str.startswith(\"Note_\")].sum()\n",
    "season_importance = importances[importances.index.str.startswith(\"Season_\")].sum()\n",
    "day_night_importance = importances[importances.index.str.startswith(\"Day\") | importances.index.str.startswith(\"Night\")].sum()\n",
    "longevity_importance = importances[\"Longevity\"]\n",
    "sillage_importance = importances[\"Sillage\"]\n",
    "votes_importance = importances[\"Votes\"]\n",
    "accords_importance = importances[importances.index.str.startswith(\"Accord_\")].sum()\n",
    "\n",
    "print(\"Ukupna važnost Brand:\", brand_importance)\n",
    "print(\"Ukupna važnost Gender:\", gender_importance)\n",
    "print(\"Ukupna važnost Notes:\", notes_importance)\n",
    "print(\"Ukupna važnost Season:\", season_importance)\n",
    "print(\"Ukupna važnost Day/Night:\", day_night_importance)\n",
    "print(\"Važnost Longevity:\", longevity_importance)\n",
    "print(\"Važnost Sillage:\", sillage_importance)\n",
    "print(\"Važnost Votes:\", votes_importance)\n",
    "\n",
    "group_importances = pd.Series({\n",
    "    \"Brand\": brand_importance,\n",
    "    \"Gender\": gender_importance,\n",
    "    \"Notes\": notes_importance,\n",
    "    \"Season\": season_importance,\n",
    "    \"Day/Night\": day_night_importance,\n",
    "    \"Longevity\": longevity_importance,\n",
    "    \"Sillage\": sillage_importance,\n",
    "    \"Votes\": votes_importance,\n",
    "    \"Accords\" : accords_importance\n",
    "})\n",
    "\n",
    "# Print rezultata\n",
    "print(group_importances)\n",
    "\n",
    "# Vizualizacija\n",
    "plt.figure(figsize=(8,5))\n",
    "group_importances.plot(kind=\"bar\", color=\"skyblue\")\n",
    "plt.title(\"Ukupna važnost grupa feature-a\")\n",
    "plt.ylabel(\"Feature Importance\")\n",
    "plt.show()"
   ]
  },
  {
   "cell_type": "markdown",
   "id": "8cd8d34e",
   "metadata": {},
   "source": [
    "Implementacija bez konsolidovanja nota:"
   ]
  },
  {
   "cell_type": "code",
   "execution_count": 125,
   "id": "305a78de",
   "metadata": {},
   "outputs": [],
   "source": [
    "def extract_top_notes(x):\n",
    "    if isinstance(x, dict):\n",
    "        return x.get('Top Notes', [])\n",
    "    elif isinstance(x, list):\n",
    "        return []\n",
    "    else:\n",
    "        return []\n",
    "\n",
    "def extract_middle_notes(x):\n",
    "    if isinstance(x, dict):\n",
    "        return x.get('Middle Notes', [])\n",
    "    elif isinstance(x, list):\n",
    "        return []\n",
    "    else:\n",
    "        return []\n",
    "\n",
    "def extract_base_notes(x):\n",
    "    if isinstance(x, dict):\n",
    "        return x.get('Base Notes', [])\n",
    "    elif isinstance(x, list):\n",
    "        return x  # If notes are a list, put all in base\n",
    "    else:\n",
    "        return []\n",
    "\n",
    "structured_df = pd.DataFrame(records)\n",
    "structured_df['Top_Notes'] = data['Notes'].apply(extract_top_notes)\n",
    "structured_df['Middle_Notes'] = data['Notes'].apply(extract_middle_notes)\n",
    "structured_df['Base_Notes'] = data['Notes'].apply(extract_base_notes)"
   ]
  },
  {
   "cell_type": "code",
   "execution_count": 126,
   "id": "0126017b",
   "metadata": {},
   "outputs": [],
   "source": [
    "ohe = OneHotEncoder(sparse_output=False)\n",
    "ohe_features = pd.DataFrame(\n",
    "    ohe.fit_transform(structured_df[['Brand', 'Gender']]),\n",
    "    columns=ohe.get_feature_names_out(['Brand', 'Gender'])\n",
    ")\n",
    "\n",
    "all_unique_top_notes = set(note for notes in structured_df['Top_Notes'] for note in notes)\n",
    "top_note_df = pd.DataFrame(\n",
    "    {f'Top_Notes_{note}': structured_df['Top_Notes'].apply(lambda x: 1 if note in x else 0)\n",
    "     for note in all_unique_top_notes}\n",
    ")\n",
    "\n",
    "all_unique_middle_notes = set(note for notes in structured_df['Middle_Notes'] for note in notes)\n",
    "middle_note_df = pd.DataFrame(\n",
    "    {f'Middle_Notes_{note}': structured_df['Middle_Notes'].apply(lambda x: 1 if note in x else 0)\n",
    "     for note in all_unique_middle_notes}\n",
    ")\n",
    "\n",
    "all_unique_base_notes = set(note for notes in structured_df['Base_Notes'] for note in notes)\n",
    "base_note_df = pd.DataFrame(\n",
    "    {f'Base_Notes_{note}': structured_df['Base_Notes'].apply(lambda x: 1 if note in x else 0)\n",
    "     for note in all_unique_base_notes}\n",
    ")\n",
    "\n",
    "all_unique_accords = set(accord for accords in structured_df['Accords'] for accord in accords)\n",
    "accord_df = pd.DataFrame(\n",
    "    {f'Accord_{accord}': structured_df['Accords'].apply(lambda x: 1 if accord in x else 0)\n",
    "     for accord in all_unique_accords}\n",
    ")\n",
    "\n",
    "structured_df = pd.concat([structured_df, top_note_df, middle_note_df, base_note_df, accord_df], axis=1)\n",
    "\n",
    "X = pd.concat([ohe_features, structured_df.drop(columns=['Brand', 'Gender', 'Rating', 'Top_Notes', 'Middle_Notes', 'Base_Notes', 'Accords'])], axis=1)\n",
    "y = structured_df['Rating']"
   ]
  },
  {
   "cell_type": "code",
   "execution_count": 127,
   "id": "2c4547ab",
   "metadata": {},
   "outputs": [],
   "source": [
    "X_train, X_test, y_train, y_test = train_test_split(X, y, test_size=0.2, random_state=42)"
   ]
  },
  {
   "cell_type": "code",
   "execution_count": 128,
   "id": "b3f605ac",
   "metadata": {},
   "outputs": [
    {
     "name": "stdout",
     "output_type": "stream",
     "text": [
      "Random Forest R^2: 0.37391547190940855\n",
      "Random Forest MAE: 0.15315613577023507\n",
      "Random Forest RMSE: 0.1980043490568599\n"
     ]
    }
   ],
   "source": [
    "rf_model = RandomForestRegressor(random_state=42)\n",
    "rf_model.fit(X_train, y_train)\n",
    "y_pred = rf_model.predict(X_test)\n",
    "\n",
    "print(\"Random Forest R^2:\", rf_model.score(X_test, y_test))\n",
    "print(\"Random Forest MAE:\", mean_absolute_error(y_test, y_pred))\n",
    "print(\"Random Forest RMSE:\", np.sqrt(mean_squared_error(y_test, y_pred)))"
   ]
  },
  {
   "cell_type": "code",
   "execution_count": 129,
   "id": "7b5b4542",
   "metadata": {},
   "outputs": [],
   "source": [
    "importances = pd.Series(rf_model.feature_importances_, index=X_train.columns)\n",
    "#top_features = importances.sort_values(ascending=False).head(30)\n",
    "#print(top_features)\n",
    "#plt.figure(figsize=(10,6))\n",
    "#top_features.plot(kind=\"barh\")\n",
    "#plt.title(\"Top 20 Feature Importances - Random Forest\")\n",
    "#plt.gca().invert_yaxis()\n",
    "#plt.show()"
   ]
  },
  {
   "cell_type": "code",
   "execution_count": 130,
   "id": "eedc1bb7",
   "metadata": {},
   "outputs": [
    {
     "name": "stdout",
     "output_type": "stream",
     "text": [
      "Ukupna važnost Brand: 0.10294366668857569\n",
      "Ukupna važnost Gender: 0.024404698022200237\n",
      "Ukupna važnost Top Notes: 0.0898343141511401\n",
      "Ukupna važnost Middle Notes: 0.0797763628712677\n",
      "Ukupna važnost Base Notes: 0.06873285711651532\n",
      "Ukupna važnost Season: 0.15240433930639113\n",
      "Ukupna važnost Day/Night: 0.08620275880863826\n",
      "Važnost Longevity: 0.14286610950357337\n",
      "Važnost Sillage: 0.03453847430341271\n",
      "Važnost Votes: 0.11158306203009895\n",
      "Brand           0.102944\n",
      "Gender          0.024405\n",
      "Top Notes       0.089834\n",
      "Middle Notes    0.079776\n",
      "Base Notes      0.068733\n",
      "Season          0.152404\n",
      "Day/Night       0.086203\n",
      "Longevity       0.142866\n",
      "Sillage         0.034538\n",
      "Votes           0.111583\n",
      "Accords         0.106713\n",
      "dtype: float64\n"
     ]
    },
    {
     "data": {
      "image/png": "[encoded data removed]",
      "text/plain": [
       "<Figure size 800x500 with 1 Axes>"
      ]
     },
     "metadata": {},
     "output_type": "display_data"
    }
   ],
   "source": [
    "brand_importance = importances[importances.index.str.startswith(\"Brand_\")].sum()\n",
    "gender_importance = importances[importances.index.str.startswith(\"Gender_\")].sum()\n",
    "top_notes_importance = importances[importances.index.str.startswith(\"Top_\")].sum()\n",
    "middle_notes_importance = importances[importances.index.str.startswith(\"Middle_\")].sum()\n",
    "base_notes_importance = importances[importances.index.str.startswith(\"Base_\")].sum()\n",
    "season_importance = importances[importances.index.str.startswith(\"Season_\")].sum()\n",
    "day_night_importance = importances[importances.index.str.startswith(\"Day\") | importances.index.str.startswith(\"Night\")].sum()\n",
    "longevity_importance = importances[\"Longevity\"]\n",
    "sillage_importance = importances[\"Sillage\"]\n",
    "votes_importance = importances[\"Votes\"]\n",
    "accords_importance = importances[importances.index.str.startswith(\"Accord_\")].sum()\n",
    "\n",
    "print(\"Ukupna važnost Brand:\", brand_importance)\n",
    "print(\"Ukupna važnost Gender:\", gender_importance)\n",
    "print(\"Ukupna važnost Top Notes:\", top_notes_importance)\n",
    "print(\"Ukupna važnost Middle Notes:\", middle_notes_importance)\n",
    "print(\"Ukupna važnost Base Notes:\", base_notes_importance)\n",
    "print(\"Ukupna važnost Season:\", season_importance)\n",
    "print(\"Ukupna važnost Day/Night:\", day_night_importance)\n",
    "print(\"Važnost Longevity:\", longevity_importance)\n",
    "print(\"Važnost Sillage:\", sillage_importance)\n",
    "print(\"Važnost Votes:\", votes_importance)\n",
    "\n",
    "group_importances = pd.Series({\n",
    "    \"Brand\": brand_importance,\n",
    "    \"Gender\": gender_importance,\n",
    "    \"Top Notes\": top_notes_importance,\n",
    "    \"Middle Notes\": middle_notes_importance,\n",
    "    \"Base Notes\": base_notes_importance,\n",
    "    \"Season\": season_importance,\n",
    "    \"Day/Night\": day_night_importance,\n",
    "    \"Longevity\": longevity_importance,\n",
    "    \"Sillage\": sillage_importance,\n",
    "    \"Votes\": votes_importance,\n",
    "    \"Accords\" : accords_importance\n",
    "})\n",
    "\n",
    "# Print rezultata\n",
    "print(group_importances)\n",
    "\n",
    "# Vizualizacija\n",
    "plt.figure(figsize=(8,5))\n",
    "group_importances.plot(kind=\"bar\", color=\"skyblue\")\n",
    "plt.title(\"Ukupna važnost grupa feature-a\")\n",
    "plt.ylabel(\"Feature Importance\")\n",
    "plt.show()"
   ]
  },
  {
   "cell_type": "markdown",
   "id": "b905d559",
   "metadata": {},
   "source": [
    "Rezultati pokazuju da razlike između dve implementacije _Random Forest_ modela, tj. one sa konsolidovanim notama i one sa razdvojenim (_top_, _middle_, _base_) notama, nisu značajne. Model bez konsolidovanja nota ostvaruje nešto bolji _R^2_ rezultat, ali je ta razlika minimalna (~ 0.01). Vrednosti _MAE_ i _RMSE_ su gotovo identične u oba pristupa, što ukazuje da način predstavljanja nota nema presudan uticaj na ukupnu tačnost modela.\n",
    "\n",
    "Konsolidovanje nota pojednostavljuje strukturu podataka, omogućavajući modelu da uči na osnovu prisustva ili odsustva mirisnih komponenti, bez obzira na njihovu hijerarhiju. S druge strane, razdvajanje nota po tipu može potencijalno otkriti nijanse u uticaju pojedinih grupa nota, ali se u ovom eksperimentu pokazalo da takva granularnost ne donosi značajno poboljšanje performansi.\n",
    "\n",
    "Dodatno, analiza značaja karakteristika (_feature importance_) pokazuje da su mirisne note, sezonska pripadnost i dugotrajnost parfema najvažniji faktori za predikciju ocene, dok brend, broj glasova i akordi imaju manji značaj. Polna kategorija parfema (_Gender_) ima najmanji uticaj, što je u skladu sa savremenim trendovima u industriji."
   ]
  },
  {
   "cell_type": "markdown",
   "id": "8bf1d188",
   "metadata": {},
   "source": [
    "Pozivanje _XGBoost_-a."
   ]
  },
  {
   "cell_type": "code",
   "execution_count": 99,
   "id": "5c1dda63",
   "metadata": {},
   "outputs": [
    {
     "name": "stdout",
     "output_type": "stream",
     "text": [
      "XGBoost R^2: 0.28081412679495943\n",
      "XGBoost MAE: 0.1627535074995952\n",
      "XGBoost RMSE: 0.2122163387687283\n"
     ]
    }
   ],
   "source": [
    "xgb_model = XGBRegressor(random_state=42)\n",
    "xgb_model.fit(X_train, y_train)\n",
    "y_xgb_pred = xgb_model.predict(X_test)\n",
    "\n",
    "print(\"XGBoost R^2:\", xgb_model.score(X_test, y_test))\n",
    "print(\"XGBoost MAE:\", mean_absolute_error(y_test, y_xgb_pred))\n",
    "print(\"XGBoost RMSE:\", np.sqrt(mean_squared_error(y_test, y_xgb_pred)))"
   ]
  },
  {
   "cell_type": "markdown",
   "id": "aea5747f",
   "metadata": {},
   "source": [
    "Analiza _feature importance_ u okviru _XGBoost_ modela pokazuje značajnu razliku u odnosu na _Random Forest_ pristup. Kod _XGBoost_-a, jedine karakteristike koje se izdvajaju kao relevantne za predikciju ocene parfema su mirisne note (_Notes_), brend (_Brand_) i akordi (_Accords_). Ostale osobine, poput sezonske pripadnosti, dugotrajnosti, intenziteta mirisnog traga, broja glasova ili polne kategorije, nisu se pokazale kao značajne za ovaj model.\n",
    "\n",
    "Ovakav rezultat ukazuje da _XGBoost_ algoritam najefikasnije koristi informacije o osnovnim mirisnim komponentama i poreklu parfema, dok dodatni deskriptivni podaci ne doprinose značajno tačnosti predikcije. Time se potvrđuje da je za _XGBoost_ model ključan fokus na mirisnom profilu i brendu, dok se ostale karakteristike ne mogu smatrati relevantnim u procesu učenja."
   ]
  },
  {
   "cell_type": "code",
   "execution_count": 100,
   "id": "c86d301e",
   "metadata": {},
   "outputs": [
    {
     "name": "stdout",
     "output_type": "stream",
     "text": [
      "Ukupna važnost Brand: 0.28035188\n",
      "Ukupna važnost Gender: 0.017851654\n",
      "Ukupna važnost Notes: 0.4929208\n",
      "Ukupna važnost Season: 0.019870238\n",
      "Ukupna važnost Day/Night: 0.011339778\n",
      "Važnost Longevity: 0.006240642\n",
      "Važnost Sillage: 0.0024734067\n",
      "Važnost Votes: 0.0076258723\n",
      "Brand        0.280352\n",
      "Gender       0.017852\n",
      "Notes        0.492921\n",
      "Season       0.019870\n",
      "Day/Night    0.011340\n",
      "Longevity    0.006241\n",
      "Sillage      0.002473\n",
      "Votes        0.007626\n",
      "Accords      0.161326\n",
      "dtype: float32\n"
     ]
    },
    {
     "data": {
      "image/png": "[encoded data removed]",
      "text/plain": [
       "<Figure size 800x500 with 1 Axes>"
      ]
     },
     "metadata": {},
     "output_type": "display_data"
    }
   ],
   "source": [
    "importances = pd.Series(xgb_model.feature_importances_, index=X_train.columns)\n",
    "brand_importance = importances[importances.index.str.startswith(\"Brand_\")].sum()\n",
    "gender_importance = importances[importances.index.str.startswith(\"Gender_\")].sum()\n",
    "notes_importance = importances[importances.index.str.startswith(\"Note_\")].sum()\n",
    "season_importance = importances[importances.index.str.startswith(\"Season_\")].sum()\n",
    "day_night_importance = importances[importances.index.str.startswith(\"Day\") | importances.index.str.startswith(\"Night\")].sum()\n",
    "longevity_importance = importances[\"Longevity\"]\n",
    "sillage_importance = importances[\"Sillage\"]\n",
    "votes_importance = importances[\"Votes\"]\n",
    "accords_importance = importances[importances.index.str.startswith(\"Accord_\")].sum()\n",
    "\n",
    "print(\"Ukupna važnost Brand:\", brand_importance)\n",
    "print(\"Ukupna važnost Gender:\", gender_importance)\n",
    "print(\"Ukupna važnost Notes:\", notes_importance)\n",
    "print(\"Ukupna važnost Season:\", season_importance)\n",
    "print(\"Ukupna važnost Day/Night:\", day_night_importance)\n",
    "print(\"Važnost Longevity:\", longevity_importance)\n",
    "print(\"Važnost Sillage:\", sillage_importance)\n",
    "print(\"Važnost Votes:\", votes_importance)\n",
    "\n",
    "group_importances = pd.Series({\n",
    "    \"Brand\": brand_importance,\n",
    "    \"Gender\": gender_importance,\n",
    "    \"Notes\": notes_importance,\n",
    "    \"Season\": season_importance,\n",
    "    \"Day/Night\": day_night_importance,\n",
    "    \"Longevity\": longevity_importance,\n",
    "    \"Sillage\": sillage_importance,\n",
    "    \"Votes\": votes_importance,\n",
    "    \"Accords\" : accords_importance\n",
    "})\n",
    "\n",
    "# Print rezultata\n",
    "print(group_importances)\n",
    "\n",
    "# Vizualizacija\n",
    "plt.figure(figsize=(8,5))\n",
    "group_importances.plot(kind=\"bar\", color=\"skyblue\")\n",
    "plt.title(\"Ukupna važnost grupa feature-a\")\n",
    "plt.ylabel(\"Feature Importance\")\n",
    "plt.show()"
   ]
  },
  {
   "cell_type": "markdown",
   "id": "c000a1ef",
   "metadata": {},
   "source": [
    "Probali smo da uklonimo karakteristike koje se nisu pokazale kao bitne, ali dobili smo _MAE_ losiji za 0.01.\n",
    "\n",
    "Sledi implementacija sa konsolidovanjem nota:"
   ]
  },
  {
   "cell_type": "code",
   "execution_count": 101,
   "id": "eb35a0f8",
   "metadata": {},
   "outputs": [],
   "source": [
    "recordsForXGB = []\n",
    "for _, row in data.iterrows():\n",
    "    recordsForXGB.append({\n",
    "        \"Brand\": row[\"Brand\"],\n",
    "        \"Accords\": row[\"Accords\"],\n",
    "        \"Rating\": row[\"Rating\"]\n",
    "    })"
   ]
  },
  {
   "cell_type": "markdown",
   "id": "1e40b47e",
   "metadata": {},
   "source": [
    "Formira se novi _DataFrame_ `structured_df_XGB` koji sadrži ključne informacije o svakom parfemu relevantne za _XGBoost_ modeliranje, uključujući brend, akorde i ocenu. Zatim se, korišćenjem funkcije `consolidate_notes`, objedinjene sve mirisne note (_top_, _middle_, _base_) u jednu kolonu _All Notes_. Ova konsolidacija omogućava da se mirisni profil svakog parfema predstavi kao jedinstvena kolekcija nota, čime se pojednostavljuje dalja obrada podataka i priprema za enkodiranje i modeliranje"
   ]
  },
  {
   "cell_type": "code",
   "execution_count": 102,
   "id": "069a18a9",
   "metadata": {},
   "outputs": [],
   "source": [
    "structured_df_XGB = pd.DataFrame(recordsForXGB)\n",
    "structured_df_XGB['All Notes'] = data['Notes'].apply(consolidate_notes)"
   ]
  },
  {
   "cell_type": "markdown",
   "id": "b172fd55",
   "metadata": {},
   "source": [
    "U narednoj ćeliji se vrši priprema podataka za _XGBoost_ model kroz enkodiranje i transformaciju relevantnih karakteristika.\n",
    "\n",
    "Prvo se brendovi parfema iz kolone _Brand_ pretvaraju u binarne (_one-hot_) enkodirane kolone pomoću `OneHotEncoder`, čime se omogućava modelu da efikasno koristi kategorijske podatke. Zatim se iz kolone _All Notes_ izdvajaju sve jedinstvene mirisne note, za svaku od njih se kreira posebna binarna kolona koja označava prisustvo ili odsustvo te note u parfemu. Sličan postupak se primenjuje i na akorde iz kolone _Accords_, gde se za svaki jedinstveni akord formira binarna indikatorska kolona. Na kraju, sve transformisane kolone se spajaju u jedan _DataFrame_, dok se ciljna promenljiva (`y_novo`) definiše kao ocena parfema."
   ]
  },
  {
   "cell_type": "code",
   "execution_count": 103,
   "id": "80e9e3d3",
   "metadata": {},
   "outputs": [],
   "source": [
    "ohe = OneHotEncoder(sparse_output=False)\n",
    "ohe_features = pd.DataFrame(\n",
    "    ohe.fit_transform(structured_df_XGB[['Brand']]),\n",
    "    columns=ohe.get_feature_names_out(['Brand'])\n",
    ")\n",
    "\n",
    "all_unique_notes = set(note for notes in structured_df_XGB['All Notes'] for note in notes)\n",
    "note_df = pd.DataFrame(\n",
    "    {f'Note_{note}': structured_df_XGB['All Notes'].apply(lambda x: 1 if note in x else 0)\n",
    "     for note in all_unique_notes}\n",
    ")\n",
    "\n",
    "all_unique_accords = set(accord for accords in structured_df_XGB['Accords'] for accord in accords)\n",
    "accord_df = pd.DataFrame(\n",
    "    {f'Accord_{accord}': structured_df_XGB['Accords'].apply(lambda x: 1 if accord in x else 0)\n",
    "     for accord in all_unique_accords}\n",
    ")\n",
    "\n",
    "structured_df_XGB = pd.concat([structured_df_XGB, note_df, accord_df], axis=1)\n",
    "\n",
    "X_novo = pd.concat([ohe_features, structured_df_XGB.drop(columns=['Brand', 'Rating', 'All Notes', 'Accords'])], axis=1)\n",
    "y_novo = structured_df_XGB['Rating']"
   ]
  },
  {
   "cell_type": "markdown",
   "id": "4efb800d",
   "metadata": {},
   "source": [
    "Podela na trening i test skup:"
   ]
  },
  {
   "cell_type": "code",
   "execution_count": 104,
   "id": "a56c3c97",
   "metadata": {},
   "outputs": [],
   "source": [
    "X_train_novo, X_test_novo, y_train_novo, y_test_novo = train_test_split(X_novo, y_novo, test_size=0.2, random_state=42)"
   ]
  },
  {
   "cell_type": "markdown",
   "id": "6c0b1a7d",
   "metadata": {},
   "source": [
    "U ovoj ćeliji se vrši treniranje i evaluacija _XGBoost_ regresionog modela na pripremljenim podacima. Model se obučava na trening skupu (`X_train_novo`, `y_train_novo`), a zatim se koristi za predikciju ocena parfema na test skupu (`X_test_novo`). Kvalitet modela se procenjuje pomoću tri ključne metrike: _R^2_, _MAE_ i _RMSE_. Ove metrike omogućavaju objektivnu procenu tačnosti predikcije i poređenje performansi modela sa drugim pristupima. Rezultati jasno pokazuju koliko je _XGBoost_ efikasan u predviđanju korisničkih ocena parfema na osnovu mirisnog profila i brenda."
   ]
  },
  {
   "cell_type": "code",
   "execution_count": 105,
   "id": "b241a58e",
   "metadata": {},
   "outputs": [
    {
     "name": "stdout",
     "output_type": "stream",
     "text": [
      "XGBoost R^2: 0.2054081880032761\n",
      "XGBoost MAE: 0.17194012527366215\n",
      "XGBoost RMSE: 0.22306441122524712\n"
     ]
    }
   ],
   "source": [
    "xgb_model_novo = XGBRegressor(random_state=42)\n",
    "xgb_model_novo.fit(X_train_novo, y_train_novo)\n",
    "y_xgb_pred = xgb_model_novo.predict(X_test_novo)\n",
    "\n",
    "print(\"XGBoost R^2:\", xgb_model_novo.score(X_test_novo, y_test_novo))\n",
    "print(\"XGBoost MAE:\", mean_absolute_error(y_test_novo, y_xgb_pred))\n",
    "print(\"XGBoost RMSE:\", np.sqrt(mean_squared_error(y_test_novo, y_xgb_pred)))"
   ]
  },
  {
   "cell_type": "markdown",
   "id": "53ed5f72",
   "metadata": {},
   "source": [
    "U narednoj ćeliji se analizira značaj (_feature importance_) glavnih grupa karakteristika u okviru treniranog _XGBoost_ modela. Izračunava se ukupna važnost za brend parfema (_Brand_), mirisne note (_Notes_) i akorde (_Accords_) na osnovu vrednosti koje je model dodelio svakoj grupi tokom učenja. Rezultati se prikazuju numerički i grafički, što omogućava vizuelnu interpretaciju doprinosa svake grupe karakteristika u predikciji ocene parfema."
   ]
  },
  {
   "cell_type": "code",
   "execution_count": 106,
   "id": "1d7578cd",
   "metadata": {},
   "outputs": [
    {
     "name": "stdout",
     "output_type": "stream",
     "text": [
      "Ukupna važnost Brand: 0.2829798\n",
      "Ukupna važnost Notes: 0.5718079\n",
      "Ukupna važnost Notes: 0.14521231\n",
      "Brand      0.282980\n",
      "Notes      0.571808\n",
      "Accords    0.145212\n",
      "dtype: float32\n"
     ]
    },
    {
     "data": {
      "image/png": "[encoded data removed]",
      "text/plain": [
       "<Figure size 800x500 with 1 Axes>"
      ]
     },
     "metadata": {},
     "output_type": "display_data"
    }
   ],
   "source": [
    "importances = pd.Series(xgb_model_novo.feature_importances_, index=X_train_novo.columns)\n",
    "brand_importance = importances[importances.index.str.startswith(\"Brand_\")].sum()\n",
    "notes_importance = importances[importances.index.str.startswith(\"Note_\")].sum()\n",
    "accords_importance = importances[importances.index.str.startswith(\"Accord_\")].sum()\n",
    "\n",
    "print(\"Ukupna važnost Brand:\", brand_importance)\n",
    "print(\"Ukupna važnost Notes:\", notes_importance)\n",
    "print(\"Ukupna važnost Notes:\", accords_importance)\n",
    "\n",
    "group_importances = pd.Series({\n",
    "    \"Brand\": brand_importance,\n",
    "    \"Notes\": notes_importance,\n",
    "    \"Accords\" : accords_importance\n",
    "})\n",
    "\n",
    "# Print rezultata\n",
    "print(group_importances)\n",
    "\n",
    "# Vizualizacija\n",
    "plt.figure(figsize=(8,5))\n",
    "group_importances.plot(kind=\"bar\", color=\"skyblue\")\n",
    "plt.title(\"Ukupna važnost grupa feature-a\")\n",
    "plt.ylabel(\"Feature Importance\")\n",
    "plt.show()"
   ]
  },
  {
   "cell_type": "markdown",
   "id": "8fe3fa25",
   "metadata": {},
   "source": [
    "_XGBoost_ model jasno ističe da su mirisne note, brend i akordi najvažnije karakteristike za predikciju ocene parfema. Ostale osobine, poput sezonske pripadnosti, polne kategorije, dugotrajnosti, intenziteta mirisnog traga i broja glasova, imaju zanemarljiv uticaj na model. Vizualizacija značaja grupa karakteristika dodatno potvrđuje da je mirisni profil (kombinacija nota i akorda) i poreklo parfema (brend) ključ za uspešnu predikciju korisničke ocene, dok dodatni deskriptivni podaci ne doprinose značajno tačnosti modela."
   ]
  },
  {
   "cell_type": "markdown",
   "id": "c895fed6",
   "metadata": {},
   "source": [
    "Ukoliko uklonimo konsolidovanje nota (`apply(consolidate_notes)`), dobijamo bolje rezultate za _R^2_ (~ 0.06), dok _MAE_ je malo lošiji (~ 0.01). A uklanjanjem _feature_-a koji nisu bili od velike važnosti, dobijamo znatno poboljšanje od ~ 0.08."
   ]
  },
  {
   "cell_type": "code",
   "execution_count": null,
   "id": "5bc8a8ff",
   "metadata": {},
   "outputs": [],
   "source": [
    "recordsForXGB = []\n",
    "for _, row in data.iterrows():\n",
    "    recordsForXGB.append({\n",
    "        \"Brand\": row[\"Brand\"],\n",
    "        \"Accords\": row[\"Accords\"],\n",
    "        \"Rating\": row[\"Rating\"]\n",
    "    })\n",
    "\n",
    "def extract_top_notes(x):\n",
    "    if isinstance(x, dict):\n",
    "        return x.get('Top Notes', [])\n",
    "    elif isinstance(x, list):\n",
    "        return []\n",
    "    else:\n",
    "        return []\n",
    "\n",
    "def extract_middle_notes(x):\n",
    "    if isinstance(x, dict):\n",
    "        return x.get('Middle Notes', [])\n",
    "    elif isinstance(x, list):\n",
    "        return []\n",
    "    else:\n",
    "        return []\n",
    "\n",
    "def extract_base_notes(x):\n",
    "    if isinstance(x, dict):\n",
    "        return x.get('Base Notes', [])\n",
    "    elif isinstance(x, list):\n",
    "        return x  # If notes are a list, put all in base\n",
    "    else:\n",
    "        return []"
   ]
  },
  {
   "cell_type": "code",
   "execution_count": 108,
   "id": "14b5d1a8",
   "metadata": {},
   "outputs": [],
   "source": [
    "structured_df_XGB = pd.DataFrame(recordsForXGB)\n",
    "structured_df_XGB['Top_Notes'] = data['Notes'].apply(extract_top_notes)\n",
    "structured_df_XGB['Middle_Notes'] = data['Notes'].apply(extract_middle_notes)\n",
    "structured_df_XGB['Base_Notes'] = data['Notes'].apply(extract_base_notes)"
   ]
  },
  {
   "cell_type": "code",
   "execution_count": 109,
   "id": "0a7c825f",
   "metadata": {},
   "outputs": [],
   "source": [
    "ohe = OneHotEncoder(sparse_output=False)\n",
    "ohe_features = pd.DataFrame(\n",
    "    ohe.fit_transform(structured_df_XGB[['Brand']]),\n",
    "    columns=ohe.get_feature_names_out(['Brand'])\n",
    ")\n",
    "\n",
    "all_unique_top_notes = set(note for notes in structured_df_XGB['Top_Notes'] for note in notes)\n",
    "top_note_df = pd.DataFrame(\n",
    "    {f'Top_Note_{note}': structured_df_XGB['Top_Notes'].apply(lambda x: 1 if note in x else 0)\n",
    "     for note in all_unique_top_notes}\n",
    ")\n",
    "\n",
    "all_unique_middle_notes = set(note for notes in structured_df_XGB['Middle_Notes'] for note in notes)\n",
    "middle_note_df = pd.DataFrame(\n",
    "    {f'Middle_Note_{note}': structured_df_XGB['Middle_Notes'].apply(lambda x: 1 if note in x else 0)\n",
    "     for note in all_unique_middle_notes}\n",
    ")\n",
    "\n",
    "all_unique_base_notes = set(note for notes in structured_df_XGB['Base_Notes'] for note in notes)\n",
    "base_note_df = pd.DataFrame(\n",
    "    {f'Base_Note_{note}': structured_df_XGB['Base_Notes'].apply(lambda x: 1 if note in x else 0)\n",
    "     for note in all_unique_base_notes}\n",
    ")\n",
    "\n",
    "all_unique_accords = set(accord for accords in structured_df_XGB['Accords'] for accord in accords)\n",
    "accord_df = pd.DataFrame(\n",
    "    {f'Accord_{accord}': structured_df_XGB['Accords'].apply(lambda x: 1 if accord in x else 0)\n",
    "     for accord in all_unique_accords}\n",
    ")\n",
    "\n",
    "structured_df_XGB = pd.concat([structured_df_XGB, top_note_df, middle_note_df, base_note_df, accord_df], axis=1)\n",
    "\n",
    "X_novo = pd.concat([ohe_features, structured_df_XGB.drop(columns=['Brand', 'Rating', 'Top_Notes', 'Middle_Notes', 'Base_Notes', 'Accords'])], axis=1)\n",
    "y_novo = structured_df_XGB['Rating']"
   ]
  },
  {
   "cell_type": "code",
   "execution_count": 110,
   "id": "4a7884d3",
   "metadata": {},
   "outputs": [],
   "source": [
    "X_train_novo, X_test_novo, y_train_novo, y_test_novo = train_test_split(X_novo, y_novo, test_size=0.2, random_state=42)"
   ]
  },
  {
   "cell_type": "code",
   "execution_count": 111,
   "id": "e6489d45",
   "metadata": {},
   "outputs": [
    {
     "name": "stdout",
     "output_type": "stream",
     "text": [
      "XGBoost R^2: 0.13999422094531466\n",
      "XGBoost MAE: 0.17862738942975473\n",
      "XGBoost RMSE: 0.23206461700817513\n"
     ]
    }
   ],
   "source": [
    "xgb_model_novo = XGBRegressor(random_state=42)\n",
    "xgb_model_novo.fit(X_train_novo, y_train_novo)\n",
    "y_xgb_pred = xgb_model_novo.predict(X_test_novo)\n",
    "\n",
    "print(\"XGBoost R^2:\", xgb_model_novo.score(X_test_novo, y_test_novo))\n",
    "print(\"XGBoost MAE:\", mean_absolute_error(y_test_novo, y_xgb_pred))\n",
    "print(\"XGBoost RMSE:\", np.sqrt(mean_squared_error(y_test_novo, y_xgb_pred)))"
   ]
  },
  {
   "cell_type": "code",
   "execution_count": 112,
   "id": "91c75ada",
   "metadata": {},
   "outputs": [
    {
     "name": "stdout",
     "output_type": "stream",
     "text": [
      "Ukupna važnost Brand: 0.24720517\n",
      "Ukupna važnost Top Notes: 0.22722621\n",
      "Ukupna važnost Middle Notes: 0.23774156\n",
      "Ukupna važnost Base Notes: 0.17878422\n",
      "Ukupna važnost Accords: 0.10904291\n",
      "Brand           0.247205\n",
      "Top Notes       0.227226\n",
      "Middle Notes    0.237742\n",
      "Base Notes      0.178784\n",
      "Accords         0.109043\n",
      "dtype: float32\n"
     ]
    },
    {
     "data": {
      "image/png": "[encoded data removed]",
      "text/plain": [
       "<Figure size 800x500 with 1 Axes>"
      ]
     },
     "metadata": {},
     "output_type": "display_data"
    }
   ],
   "source": [
    "importances = pd.Series(xgb_model_novo.feature_importances_, index=X_train_novo.columns)\n",
    "brand_importance = importances[importances.index.str.startswith(\"Brand_\")].sum()\n",
    "top_notes_importance = importances[importances.index.str.startswith(\"Top_\")].sum()\n",
    "middle_notes_importance = importances[importances.index.str.startswith(\"Middle_\")].sum()\n",
    "base_notes_importance = importances[importances.index.str.startswith(\"Base_\")].sum()\n",
    "accords_importance = importances[importances.index.str.startswith(\"Accord_\")].sum()\n",
    "\n",
    "print(\"Ukupna važnost Brand:\", brand_importance)\n",
    "print(\"Ukupna važnost Top Notes:\", top_notes_importance)\n",
    "print(\"Ukupna važnost Middle Notes:\", middle_notes_importance)\n",
    "print(\"Ukupna važnost Base Notes:\", base_notes_importance)\n",
    "print(\"Ukupna važnost Accords:\", accords_importance)\n",
    "\n",
    "group_importances = pd.Series({\n",
    "    \"Brand\": brand_importance,\n",
    "    \"Top Notes\": top_notes_importance,\n",
    "    \"Middle Notes\": middle_notes_importance,\n",
    "    \"Base Notes\": base_notes_importance,\n",
    "    \"Accords\" : accords_importance\n",
    "})\n",
    "\n",
    "# Print rezultata\n",
    "print(group_importances)\n",
    "\n",
    "# Vizualizacija\n",
    "plt.figure(figsize=(8,5))\n",
    "group_importances.plot(kind=\"bar\", color=\"skyblue\")\n",
    "plt.title(\"Ukupna važnost grupa feature-a\")\n",
    "plt.ylabel(\"Feature Importance\")\n",
    "plt.show()"
   ]
  }
 ],
 "metadata": {
  "kernelspec": {
   "display_name": "Python 3",
   "language": "python",
   "name": "python3"
  },
  "language_info": {
   "codemirror_mode": {
    "name": "ipython",
    "version": 3
   },
   "file_extension": ".py",
   "mimetype": "text/x-python",
   "name": "python",
   "nbconvert_exporter": "python",
   "pygments_lexer": "ipython3",
   "version": "3.13.7"
  }
 },
 "nbformat": 4,
 "nbformat_minor": 5
}
