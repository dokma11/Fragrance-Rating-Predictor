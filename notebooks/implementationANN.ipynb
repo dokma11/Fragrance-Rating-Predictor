{
 "cells": [
  {
   "cell_type": "markdown",
   "id": "210dfc83",
   "metadata": {},
   "source": [
    "**Implementacija predikcije ocene parfema uz koriscenje ANN**\n",
    "\n",
    "Pre svega treba importovati sve potrebne pakete koji ce nam sluziti za analizu."
   ]
  },
  {
   "cell_type": "code",
   "execution_count": 33,
   "id": "90954b25",
   "metadata": {},
   "outputs": [],
   "source": [
    "import pandas as pd\n",
    "import numpy as np\n",
    "from sklearn.model_selection import train_test_split\n",
    "from sklearn.metrics import mean_absolute_error, mean_squared_error\n",
    "from sklearn.preprocessing import LabelEncoder, StandardScaler\n",
    "from tensorflow.keras.models import Model\n",
    "from tensorflow.keras.layers import Input, Embedding, Dense, Flatten, Concatenate\n",
    "from tensorflow.keras.optimizers import Adam\n",
    "import re\n",
    "from ast import literal_eval\n",
    "from tensorflow.keras.preprocessing.sequence import pad_sequences\n"
   ]
  },
  {
   "cell_type": "markdown",
   "id": "f5cb9f67",
   "metadata": {},
   "source": [
    "Funckija *parse_season_ratings* sluzi za za parsiranje polja godisnja doba iz skupa podataka, dok funckija *consolidate_notes* objedinjuje/konsoliduje base, middle i top note u jednu kolekciju"
   ]
  },
  {
   "cell_type": "code",
   "execution_count": 34,
   "id": "3ed4a073",
   "metadata": {},
   "outputs": [],
   "source": [
    "def parse_season_ratings(rating_str):\n",
    "    pattern = r'([A-Za-z]+):\\s*([0-9.]+)%'\n",
    "    return {season: float(percent) for season, percent in re.findall(pattern, rating_str)}\n",
    "\n",
    "def consolidate_notes(notes):\n",
    "    all_notes = []\n",
    "    for note_type in ['Top Notes', 'Middle Notes', 'Base Notes']:\n",
    "        if note_type in notes:\n",
    "            all_notes.extend(notes[note_type])\n",
    "    return all_notes\n"
   ]
  },
  {
   "cell_type": "markdown",
   "id": "9a73743f",
   "metadata": {},
   "source": [
    "Funkcije za izdvajanje top, middle i base nota iz polja Notes"
   ]
  },
  {
   "cell_type": "code",
   "execution_count": 35,
   "id": "374fe1d5",
   "metadata": {},
   "outputs": [],
   "source": [
    "def extract_top_notes(x):\n",
    "    if isinstance(x, dict):\n",
    "        return x.get('Top Notes', [])\n",
    "    elif isinstance(x, list):\n",
    "        return []\n",
    "    else:\n",
    "        return []\n",
    "\n",
    "def extract_middle_notes(x):\n",
    "    if isinstance(x, dict):\n",
    "        return x.get('Middle Notes', [])\n",
    "    elif isinstance(x, list):\n",
    "        return []\n",
    "    else:\n",
    "        return []\n",
    "\n",
    "def extract_base_notes(x):\n",
    "    if isinstance(x, dict):\n",
    "        return x.get('Base Notes', [])\n",
    "    elif isinstance(x, list):\n",
    "        return x  # ako su sve note lista, tretiraj kao base\n",
    "    else:\n",
    "        return []"
   ]
  },
  {
   "cell_type": "markdown",
   "id": "a4d2ceaf",
   "metadata": {},
   "source": [
    "Ucitavanje skupa podataka"
   ]
  },
  {
   "cell_type": "code",
   "execution_count": 36,
   "id": "f8907045",
   "metadata": {},
   "outputs": [],
   "source": [
    "file_path = \"../datasets/mainDataset.csv\"\n",
    "data = pd.read_csv(file_path, delimiter='|')\n"
   ]
  },
  {
   "cell_type": "markdown",
   "id": "6b57ad32",
   "metadata": {},
   "source": [
    "Izdvajanje relevantnih polja iz skupa podataka koji ce biti ulaz u algoritme. Prvobitno nismo dodali akorde, ali nakon dodavanja (da bi se uskladili sa ulaznim podacima u prethodne 2 metoda) nismo primetili znatno razlicite rezultate"
   ]
  },
  {
   "cell_type": "code",
   "execution_count": 37,
   "id": "28a3ac5f",
   "metadata": {},
   "outputs": [],
   "source": [
    "data['Accords'] = data['Accords'].apply(literal_eval)\n",
    "data['Notes'] = data['Notes'].apply(literal_eval)\n",
    "data['Votes'] = data['Rating'].apply(lambda x: literal_eval(x)['votes'])\n",
    "data['Rating'] = data['Rating'].apply(lambda x: literal_eval(x)['rating'])\n",
    "data['Season ratings'] = data['Season ratings'].apply(parse_season_ratings)\n",
    "data['Day ratings'] = data['Day ratings'].apply(parse_season_ratings)\n",
    "data['Designers'] = data['Designers'].apply(literal_eval)\n"
   ]
  },
  {
   "cell_type": "markdown",
   "id": "f46389d9",
   "metadata": {},
   "source": [
    "Stvaranje recorda i formiranje Data Frame koji sadrzi svaki parfem iz skupa podataka u pogodnom obliku i svih nota JEDNOG parfema, note su u konsolidovanom obliku"
   ]
  },
  {
   "cell_type": "code",
   "execution_count": 38,
   "id": "012df780",
   "metadata": {},
   "outputs": [],
   "source": [
    "records = []\n",
    "for _, row in data.iterrows():\n",
    "    record = {\n",
    "        \"Brand\": row[\"Brand\"],\n",
    "        \"Accords\": row[\"Accords\"],\n",
    "        \"Gender\": row[\"Gender\"],\n",
    "        \"Longevity\": row[\"Longevity\"],\n",
    "        \"Sillage\": row[\"Sillage\"],\n",
    "        \"Rating\": row[\"Rating\"],\n",
    "        \"Votes\": row[\"Votes\"],\n",
    "        \"Season_Winter\": row[\"Season ratings\"].get(\"Winter\", 0),\n",
    "        \"Season_Spring\": row[\"Season ratings\"].get(\"Spring\", 0),\n",
    "        \"Season_Summer\": row[\"Season ratings\"].get(\"Summer\", 0),\n",
    "        \"Season_Fall\": row[\"Season ratings\"].get(\"Fall\", 0),\n",
    "        \"Day\": row[\"Day ratings\"].get(\"Day\", 0),\n",
    "        \"Night\": row[\"Day ratings\"].get(\"Night\", 0)\n",
    "    }\n",
    "    records.append(record)\n",
    "\n",
    "structured_df = pd.DataFrame(records)\n",
    "structured_df['All Notes'] = data['Notes'].apply(consolidate_notes) \n"
   ]
  },
  {
   "cell_type": "markdown",
   "id": "c8997289",
   "metadata": {},
   "source": [
    "Note su tekstualne vrednosti koje mreža ne može direktno da koristi, pa se svaka nota pretvara u jedinstveni broj (ID). Problem je što parfemi imaju različit broj nota, a mreži trebaju ulazi iste dužine. Zato se sve liste nota skraćuju ili dopunjavaju nulama do iste dužine (20). Tako svaki parfem dobija numerički niz fiksne veličine i mreža može da uči iz tih podataka.\n",
    "Odabran je broj 20 jer predtsvalja optimalan broj nota po parfemu, sa manjim brojevima (npr. 10) su dobijani losiji rezultati."
   ]
  },
  {
   "cell_type": "code",
   "execution_count": 39,
   "id": "2b316eca",
   "metadata": {},
   "outputs": [],
   "source": [
    "\n",
    "all_unique_notes = list(set(note for notes in structured_df['All Notes'] for note in notes)) \n",
    "note_to_id = {note: idx for idx, note in enumerate(all_unique_notes)} \n",
    "structured_df['Note_IDs'] = structured_df['All Notes'].apply(lambda notes: [note_to_id[note] for note in notes if note in note_to_id]) \n",
    "max_len = 20 \n",
    "structured_df['Note_IDs_Padded'] = pad_sequences(structured_df['Note_IDs'], maxlen=max_len, padding='post').tolist() \n",
    "\n"
   ]
  },
  {
   "cell_type": "markdown",
   "id": "086be9a3",
   "metadata": {},
   "source": [
    "Kao i u prethodnoj celiji analogno se sve lista akorda skraćuju ili dopunjavaju nulama do iste dužine (10). Tako svaki parfem dobija numerički niz fiksne veličine i mreža može da uči iz tih podataka.\n",
    "Odabran je broj 20 jer predtsvalja optimalan broj akorda po parfemu, sa manjim brojevima (npr. 5) su dobijani losiji rezultati."
   ]
  },
  {
   "cell_type": "code",
   "execution_count": 40,
   "id": "cc3d83f5",
   "metadata": {},
   "outputs": [],
   "source": [
    "all_unique_accords = list(set(accord for accords in structured_df['Accords'] for accord in accords)) \n",
    "accord_to_id = {accord: idx for idx, accord in enumerate(all_unique_accords)}\n",
    "structured_df['Accord_IDs'] = structured_df['Accords'].apply(lambda accords: [accord_to_id[a] for a in accords if a in accord_to_id])\n",
    "max_len_accords = 10  \n",
    "structured_df['Accord_IDs_Padded'] = pad_sequences(structured_df['Accord_IDs'], maxlen=max_len_accords, padding='post').tolist()"
   ]
  },
  {
   "cell_type": "markdown",
   "id": "551d9e63",
   "metadata": {},
   "source": [
    "Endokiranje, odnsno pretvaranje kategoricnih vrednosti u numericke."
   ]
  },
  {
   "cell_type": "code",
   "execution_count": 41,
   "id": "447608c2",
   "metadata": {},
   "outputs": [],
   "source": [
    "label_encoder = LabelEncoder()\n",
    "structured_df['Gender'] = label_encoder.fit_transform(structured_df['Gender'])\n",
    "structured_df['Brand'] = label_encoder.fit_transform(structured_df['Brand'])\n"
   ]
  },
  {
   "cell_type": "markdown",
   "id": "d6e6ccbc",
   "metadata": {},
   "source": [
    "Iz podataka se izdvajaju ulazi i izlazi za mrežu. Kao cilj (y) koriste se ocena parfema, a ulazi (X) su sve ostale karakteristike osim kolona koje nisu pogodne za direktno treniranje, kao što su originalne liste nota. Posebno se čuvaju i obeležja vezana za note u obliku niza fiksne dužine (X_notes).\n",
    "Numeričke kolone poput trajnosti, sillage-a, broja glasova i sezonskih ocena normalizuju se pomoću StandardScaler tako da imaju prosečnu vrednost nula i standardnu devijaciju jedan, što mreži olakšava učenje i dalo je bolje rezulate u odnsosu kad nismo koristili.\n",
    "Na kraju se ceo skup deli na trening i test deo u odnosu 80:20, i to odvojeno za obične atribute (X) i za note (X_notes), da bi se model mogao trenirati i kasnije testirati na podacima koje nije video."
   ]
  },
  {
   "cell_type": "markdown",
   "id": "2452df90",
   "metadata": {},
   "source": [
    "Note, s druge strane, predstavljaju sekvencu ID-jeva, gde svaki ID označava jednu notu parfema. Broj nota nije isti za svaki parfem, pa su prethodno skraćene ili dopunjene nulama do fiksne dužine (Note_IDs_Padded). Takav oblik je pogodan za embedding sloj u mreži, gde mreža uči reprezentaciju svake note kao vektora. Dakle, X_notes ide u embedding sloj (ili sekvencijalni deo mreže), a X ide u standardni dense sloj, a kasnije se oba spoje i dalje obrađuju zajedno u mreži. Ovo analogno vazi i za akorde."
   ]
  },
  {
   "cell_type": "code",
   "execution_count": 47,
   "id": "ae4ca422",
   "metadata": {},
   "outputs": [],
   "source": [
    "X = structured_df.drop(columns=['Rating', 'All Notes', 'Accords', 'Accord_IDs', 'Note_IDs', 'Note_IDs_Padded', 'Accord_IDs_Padded']) \n",
    "\n",
    "y = structured_df['Rating']\n",
    "X_notes = np.array(structured_df['Note_IDs_Padded'].tolist())\n",
    "X_accords = np.array(structured_df['Accord_IDs_Padded'].tolist())\n",
    "\n",
    "numerical_features = ['Longevity','Sillage','Votes','Season_Winter','Season_Spring','Season_Summer','Season_Fall','Day','Night']\n",
    "scaler = StandardScaler()\n",
    "X[numerical_features] = scaler.fit_transform(X[numerical_features])\n",
    "\n",
    "X_train, X_test, y_train, y_test = train_test_split(X, y, test_size=0.2, random_state=42)\n",
    "X_train_notes, X_test_notes = train_test_split(X_notes, test_size=0.2, random_state=42)\n",
    "X_train_accords, X_test_accords = train_test_split(X_accords, test_size=0.2, random_state=42)\n"
   ]
  },
  {
   "cell_type": "markdown",
   "id": "614eab5f",
   "metadata": {},
   "source": [
    "Pravi se neuronska mrežu sa tri ulaza. Jedan ulaz prima numeričke i enkodovane karakteristike parfema, dok drugi prima note u obliku niza ID-jeva koji se embedding-uju u vektore. Embedding sloj pretvara svaku notu u vektor dimenzije 32, a zatim se svi vektori nota spajaju u jedan dugačak vektor, treci ulaz je analogan drugom ali je vezan za akorde. Ovaj vektor se kombinuje sa ulazom za ostale karakteristike i prolazi kroz dva dense sloja sa ReLU aktivacijom, na kraju dajući jednu vrednost predikcije ocene parfema. Model se kompajlira sa Adam optimizatorom, gubitkom MSE i metrikom MAE, spreman za treniranje regresije."
   ]
  },
  {
   "cell_type": "markdown",
   "id": "9cea9af5",
   "metadata": {},
   "source": [
    "ReLU je korišćen jer parfemski podaci imaju složene, nelinearne odnose između karakteristika i nota, pa mreži treba aktivacija koja može da ih modeluje. Adam je odabran jer omogućava brzo i stabilno treniranje na heterogenim ulazima, gde su zajedno numeričke karakteristike i embeddingovane note."
   ]
  },
  {
   "cell_type": "markdown",
   "id": "b5b99311",
   "metadata": {},
   "source": [
    "Learning rate 0.005 se pokazao kao najbolji u poredjenjeu sa ostalim vrednostima. Ispobavan je opseg vrednosti od 0.001 do 0.01"
   ]
  },
  {
   "cell_type": "code",
   "execution_count": 43,
   "id": "fdaf79ef",
   "metadata": {},
   "outputs": [],
   "source": [
    "\n",
    "note_input = Input(shape=(max_len,))\n",
    "note_embedding = Embedding(input_dim=len(all_unique_notes), output_dim=32)(note_input)\n",
    "note_flattened = Flatten()(note_embedding)\n",
    "\n",
    "accord_input = Input(shape=(max_len_accords,))\n",
    "accord_embedding = Embedding(input_dim=len(all_unique_accords), output_dim=16)(accord_input)\n",
    "accord_flattened = Flatten()(accord_embedding)\n",
    "\n",
    "structured_input = Input(shape=(X_train.shape[1],))\n",
    "concatenated = Concatenate()([structured_input, note_flattened, accord_flattened])\n",
    "\n",
    "dense_1 = Dense(128, activation='relu')(concatenated)\n",
    "dense_2 = Dense(64, activation='relu')(dense_1)\n",
    "output = Dense(1)(dense_2)\n",
    "\n",
    "ann_model = Model(inputs=[structured_input, note_input, accord_input], outputs=output)\n",
    "ann_model.compile(optimizer=Adam(learning_rate=0.005), loss='mse', metrics=['mae'])\n"
   ]
  },
  {
   "cell_type": "markdown",
   "id": "8f7a3aaf",
   "metadata": {},
   "source": [
    "Model se trenira 200 epoha sa veličinom batch-a 32. Parametar verbose=0 znači da tokom treniranja neće prikazivati detalje napretka, pa se proces odvija u pozadini bez ispisa.\n",
    "200 epoha se prikazalo kao optimalan broj epoha kada uporedimo tacnost ali i brzinu izvrsavanaj naspram dobijene tacnosti. Sa manjim brojem epohda su dobijani losiiji rezultati, a sa vecim brojem epohda nismo dopirneli rezultatima. Probavane vrednosti za broj epoha se krecu od 100 do 300."
   ]
  },
  {
   "cell_type": "code",
   "execution_count": 44,
   "id": "fe09eed2",
   "metadata": {},
   "outputs": [
    {
     "data": {
      "text/plain": [
       "<keras.src.callbacks.history.History at 0x21d01f609e0>"
      ]
     },
     "execution_count": 44,
     "metadata": {},
     "output_type": "execute_result"
    }
   ],
   "source": [
    "ann_model.fit([X_train, X_train_notes, X_train_accords], y_train, epochs=200, batch_size=32, verbose=0)\n"
   ]
  },
  {
   "cell_type": "code",
   "execution_count": 46,
   "id": "a9b08df9",
   "metadata": {},
   "outputs": [
    {
     "name": "stdout",
     "output_type": "stream",
     "text": [
      "\u001b[1m12/12\u001b[0m \u001b[32m━━━━━━━━━━━━━━━━━━━━\u001b[0m\u001b[37m\u001b[0m \u001b[1m0s\u001b[0m 5ms/step \n",
      "ANN Mean Absolute Error (MAE): 0.2151467353105545\n",
      "ANN Root Mean Squared Error (RMSE): 0.27764205656543134\n"
     ]
    }
   ],
   "source": [
    "\n",
    "ann_loss, ann_mae = ann_model.evaluate([X_test, X_test_notes,   X_test_accords], y_test, verbose=0)\n",
    "ann_predictions = ann_model.predict([X_test, X_test_notes, X_test_accords]).flatten()\n",
    "ann_rmse = np.sqrt(mean_squared_error(y_test, ann_predictions))\n",
    "\n",
    "print(f\"ANN Mean Absolute Error (MAE): {ann_mae}\")\n",
    "print(f\"ANN Root Mean Squared Error (RMSE): {ann_rmse}\")\n"
   ]
  }
 ],
 "metadata": {
  "kernelspec": {
   "display_name": "Python 3",
   "language": "python",
   "name": "python3"
  },
  "language_info": {
   "codemirror_mode": {
    "name": "ipython",
    "version": 3
   },
   "file_extension": ".py",
   "mimetype": "text/x-python",
   "name": "python",
   "nbconvert_exporter": "python",
   "pygments_lexer": "ipython3",
   "version": "3.12.8"
  }
 },
 "nbformat": 4,
 "nbformat_minor": 5
}
