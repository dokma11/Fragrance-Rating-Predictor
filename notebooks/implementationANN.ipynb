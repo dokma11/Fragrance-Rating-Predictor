{
 "cells": [
  {
   "cell_type": "code",
   "execution_count": null,
   "id": "90954b25",
   "metadata": {},
   "outputs": [],
   "source": [
    "\n",
    "import pandas as pd\n",
    "import numpy as np\n",
    "from sklearn.model_selection import train_test_split\n",
    "from sklearn.metrics import mean_absolute_error, mean_squared_error\n",
    "from sklearn.preprocessing import LabelEncoder, StandardScaler\n",
    "from tensorflow.keras.models import Model\n",
    "from tensorflow.keras.layers import Input, Embedding, Dense, Flatten, Concatenate\n",
    "from tensorflow.keras.optimizers import Adam\n",
    "import re\n",
    "from ast import literal_eval\n",
    "from tensorflow.keras.preprocessing.sequence import pad_sequences\n"
   ]
  },
  {
   "cell_type": "code",
   "execution_count": null,
   "id": "3ed4a073",
   "metadata": {},
   "outputs": [],
   "source": [
    "\n",
    "def parse_season_ratings(rating_str):\n",
    "    pattern = r'([A-Za-z]+):\\s*([0-9.]+)%'\n",
    "    return {season: float(percent) for season, percent in re.findall(pattern, rating_str)}\n",
    "\n",
    "def consolidate_notes(notes):\n",
    "    all_notes = []\n",
    "    for note_type in ['Top Notes', 'Middle Notes', 'Base Notes']:\n",
    "        if note_type in notes:\n",
    "            all_notes.extend(notes[note_type])\n",
    "    return all_notes\n"
   ]
  },
  {
   "cell_type": "code",
   "execution_count": null,
   "id": "f8907045",
   "metadata": {},
   "outputs": [],
   "source": [
    "\n",
    "file_path = \"datasets/mainDataset.csv\"\n",
    "data = pd.read_csv(file_path, delimiter='|')\n"
   ]
  },
  {
   "cell_type": "code",
   "execution_count": null,
   "id": "28a3ac5f",
   "metadata": {},
   "outputs": [],
   "source": [
    "\n",
    "data['Accords'] = data['Accords'].apply(literal_eval)\n",
    "data['Notes'] = data['Notes'].apply(literal_eval)\n",
    "data['Votes'] = data['Rating'].apply(lambda x: literal_eval(x)['votes'])\n",
    "data['Rating'] = data['Rating'].apply(lambda x: literal_eval(x)['rating'])\n",
    "data['Season ratings'] = data['Season ratings'].apply(parse_season_ratings)\n",
    "data['Day ratings'] = data['Day ratings'].apply(parse_season_ratings)\n",
    "data['Designers'] = data['Designers'].apply(literal_eval)\n"
   ]
  },
  {
   "cell_type": "code",
   "execution_count": null,
   "id": "012df780",
   "metadata": {},
   "outputs": [],
   "source": [
    "\n",
    "records = []\n",
    "for _, row in data.iterrows():\n",
    "    record = {\n",
    "        \"Brand\": row[\"Brand\"],\n",
    "        \"Gender\": row[\"Gender\"],\n",
    "        \"Longevity\": row[\"Longevity\"],\n",
    "        \"Sillage\": row[\"Sillage\"],\n",
    "        \"Rating\": row[\"Rating\"],\n",
    "        \"Votes\": row[\"Votes\"],\n",
    "        \"Season_Winter\": row[\"Season ratings\"].get(\"Winter\", 0),\n",
    "        \"Season_Spring\": row[\"Season ratings\"].get(\"Spring\", 0),\n",
    "        \"Season_Summer\": row[\"Season ratings\"].get(\"Summer\", 0),\n",
    "        \"Season_Fall\": row[\"Season ratings\"].get(\"Fall\", 0),\n",
    "        \"Day\": row[\"Day ratings\"].get(\"Day\", 0),\n",
    "        \"Night\": row[\"Day ratings\"].get(\"Night\", 0)\n",
    "    }\n",
    "    records.append(record)\n",
    "\n",
    "structured_df = pd.DataFrame(records)\n",
    "structured_df['All Notes'] = data['Notes'].apply(consolidate_notes)\n"
   ]
  },
  {
   "cell_type": "code",
   "execution_count": null,
   "id": "2b316eca",
   "metadata": {},
   "outputs": [],
   "source": [
    "\n",
    "all_unique_notes = list(set(note for notes in structured_df['All Notes'] for note in notes))\n",
    "note_to_id = {note: idx for idx, note in enumerate(all_unique_notes)}\n",
    "structured_df['Note_IDs'] = structured_df['All Notes'].apply(lambda notes: [note_to_id[note] for note in notes if note in note_to_id])\n",
    "max_len = 20\n",
    "structured_df['Note_IDs_Padded'] = pad_sequences(structured_df['Note_IDs'], maxlen=max_len, padding='post').tolist()\n"
   ]
  },
  {
   "cell_type": "code",
   "execution_count": null,
   "id": "447608c2",
   "metadata": {},
   "outputs": [],
   "source": [
    "\n",
    "label_encoder = LabelEncoder()\n",
    "structured_df['Gender'] = label_encoder.fit_transform(structured_df['Gender'])\n",
    "structured_df['Brand'] = label_encoder.fit_transform(structured_df['Brand'])\n"
   ]
  },
  {
   "cell_type": "code",
   "execution_count": null,
   "id": "3139880e",
   "metadata": {},
   "outputs": [],
   "source": [
    "\n",
    "X = structured_df.drop(columns=['Rating', 'All Notes', 'Note_IDs', 'Note_IDs_Padded'])\n",
    "y = structured_df['Rating']\n",
    "X_notes = np.array(structured_df['Note_IDs_Padded'].tolist())\n",
    "\n",
    "numerical_features = ['Longevity','Sillage','Votes','Season_Winter','Season_Spring','Season_Summer','Season_Fall','Day','Night']\n",
    "scaler = StandardScaler()\n",
    "X[numerical_features] = scaler.fit_transform(X[numerical_features])\n",
    "\n",
    "X_train, X_test, y_train, y_test = train_test_split(X, y, test_size=0.2, random_state=42)\n",
    "X_train_notes, X_test_notes = train_test_split(X_notes, test_size=0.2, random_state=42)\n"
   ]
  },
  {
   "cell_type": "code",
   "execution_count": null,
   "id": "fdaf79ef",
   "metadata": {},
   "outputs": [],
   "source": [
    "\n",
    "note_input = Input(shape=(max_len,))\n",
    "note_embedding = Embedding(input_dim=len(all_unique_notes), output_dim=32)(note_input)\n",
    "note_flattened = Flatten()(note_embedding)\n",
    "\n",
    "structured_input = Input(shape=(X_train.shape[1],))\n",
    "concatenated = Concatenate()([structured_input, note_flattened])\n",
    "\n",
    "dense_1 = Dense(128, activation='relu')(concatenated)\n",
    "dense_2 = Dense(64, activation='relu')(dense_1)\n",
    "output = Dense(1)(dense_2)\n",
    "\n",
    "ann_model = Model(inputs=[structured_input, note_input], outputs=output)\n",
    "ann_model.compile(optimizer=Adam(learning_rate=0.005), loss='mse', metrics=['mae'])\n"
   ]
  },
  {
   "cell_type": "code",
   "execution_count": null,
   "id": "fe09eed2",
   "metadata": {},
   "outputs": [],
   "source": [
    "\n",
    "ann_model.fit([X_train, X_train_notes], y_train, epochs=200, batch_size=32, verbose=0)\n"
   ]
  },
  {
   "cell_type": "code",
   "execution_count": null,
   "id": "a9b08df9",
   "metadata": {},
   "outputs": [],
   "source": [
    "\n",
    "ann_loss, ann_mae = ann_model.evaluate([X_test, X_test_notes], y_test, verbose=0)\n",
    "ann_predictions = ann_model.predict([X_test, X_test_notes]).flatten()\n",
    "ann_rmse = np.sqrt(mean_squared_error(y_test, ann_predictions))\n",
    "\n",
    "print(f\"ANN Mean Absolute Error (MAE): {ann_mae}\")\n",
    "print(f\"ANN Root Mean Squared Error (RMSE): {ann_rmse}\")\n"
   ]
  }
 ],
 "metadata": {
  "language_info": {
   "name": "python"
  }
 },
 "nbformat": 4,
 "nbformat_minor": 5
}
